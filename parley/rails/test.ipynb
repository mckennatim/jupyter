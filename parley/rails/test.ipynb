{
 "cells": [
  {
   "cell_type": "markdown",
   "id": "6b26b0a0-c223-4060-97a9-04f0b8cc5269",
   "metadata": {},
   "source": [
    "# test notebook"
   ]
  },
  {
   "cell_type": "code",
   "execution_count": 1,
   "id": "d4d4321f-e971-4752-ad5b-449e4287c175",
   "metadata": {},
   "outputs": [
    {
     "name": "stdout",
     "output_type": "stream",
     "text": [
      "[['74' \"6'\" '17']\n",
      " ['80.25' \"8'\" '19']]\n",
      "8'\n"
     ]
    }
   ],
   "source": [
    "import numpy as np\n",
    "sections = np.array([[74,\"6'\",17],[80.25,\"8'\", 19]])\n",
    "print(sections)\n",
    "rail = 1\n",
    "print(sections[rail,1])"
   ]
  },
  {
   "cell_type": "code",
   "execution_count": 2,
   "id": "6d79efcd-8051-4f6d-aeb0-a8b29cfdfe35",
   "metadata": {
    "tags": []
   },
   "outputs": [
    {
     "data": {
      "text/html": [
       "<div>\n",
       "<style scoped>\n",
       "    .dataframe tbody tr th:only-of-type {\n",
       "        vertical-align: middle;\n",
       "    }\n",
       "\n",
       "    .dataframe tbody tr th {\n",
       "        vertical-align: top;\n",
       "    }\n",
       "\n",
       "    .dataframe thead th {\n",
       "        text-align: right;\n",
       "    }\n",
       "</style>\n",
       "<table border=\"1\" class=\"dataframe\">\n",
       "  <thead>\n",
       "    <tr style=\"text-align: right;\">\n",
       "      <th></th>\n",
       "      <th>﻿location</th>\n",
       "      <th>length</th>\n",
       "      <th>rail</th>\n",
       "      <th>ballusters</th>\n",
       "      <th>Unnamed: 4</th>\n",
       "    </tr>\n",
       "  </thead>\n",
       "  <tbody>\n",
       "    <tr>\n",
       "      <th>0</th>\n",
       "      <td>a</td>\n",
       "      <td>74.00</td>\n",
       "      <td>\"6'\"</td>\n",
       "      <td>17</td>\n",
       "      <td>NaN</td>\n",
       "    </tr>\n",
       "    <tr>\n",
       "      <th>1</th>\n",
       "      <td>b</td>\n",
       "      <td>80.25</td>\n",
       "      <td>\"8'\"</td>\n",
       "      <td>19</td>\n",
       "      <td>NaN</td>\n",
       "    </tr>\n",
       "    <tr>\n",
       "      <th>2</th>\n",
       "      <td>NaN</td>\n",
       "      <td>NaN</td>\n",
       "      <td>NaN</td>\n",
       "      <td>=D2+D3</td>\n",
       "      <td>=D4</td>\n",
       "    </tr>\n",
       "    <tr>\n",
       "      <th>3</th>\n",
       "      <td>NaN</td>\n",
       "      <td>NaN</td>\n",
       "      <td>NaN</td>\n",
       "      <td>=SUM(D2:D4)</td>\n",
       "      <td>=D5</td>\n",
       "    </tr>\n",
       "    <tr>\n",
       "      <th>4</th>\n",
       "      <td>NaN</td>\n",
       "      <td>NaN</td>\n",
       "      <td>NaN</td>\n",
       "      <td>NaN</td>\n",
       "      <td>NaN</td>\n",
       "    </tr>\n",
       "  </tbody>\n",
       "</table>\n",
       "</div>"
      ],
      "text/plain": [
       "  ﻿location  length rail    ballusters Unnamed: 4\n",
       "0         a   74.00  \"6'\"           17        NaN\n",
       "1         b   80.25  \"8'\"           19        NaN\n",
       "2       NaN     NaN   NaN       =D2+D3        =D4\n",
       "3       NaN     NaN   NaN  =SUM(D2:D4)        =D5\n",
       "4       NaN     NaN   NaN          NaN        NaN"
      ]
     },
     "execution_count": 2,
     "metadata": {},
     "output_type": "execute_result"
    }
   ],
   "source": [
    "import pandas as pd\n",
    "takeoff = pd.read_csv('Book1.csv')\n",
    "takeoff.head()"
   ]
  },
  {
   "cell_type": "code",
   "execution_count": null,
   "id": "be8fb29f-1050-4526-81d2-48bf92a86381",
   "metadata": {},
   "outputs": [],
   "source": []
  }
 ],
 "metadata": {
  "kernelspec": {
   "display_name": "Python 3 (ipykernel)",
   "language": "python",
   "name": "python3"
  },
  "language_info": {
   "codemirror_mode": {
    "name": "ipython",
    "version": 3
   },
   "file_extension": ".py",
   "mimetype": "text/x-python",
   "name": "python",
   "nbconvert_exporter": "python",
   "pygments_lexer": "ipython3",
   "version": "3.8.10"
  }
 },
 "nbformat": 4,
 "nbformat_minor": 5
}
