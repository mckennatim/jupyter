{
 "cells": [
  {
   "cell_type": "markdown",
   "id": "8cbb415d-2e75-45d0-b355-925eb5e385b6",
   "metadata": {},
   "source": [
    "# dog\n"
   ]
  },
  {
   "cell_type": "code",
   "execution_count": null,
   "id": "6088215d-4148-4b24-b36e-68e46e05e83d",
   "metadata": {},
   "outputs": [],
   "source": []
  }
 ],
 "metadata": {
  "kernelspec": {
   "display_name": "Python 3 (ipykernel)",
   "language": "python",
   "name": "python3"
  },
  "language_info": {
   "codemirror_mode": {
    "name": "ipython",
    "version": 3
   },
   "file_extension": ".py",
   "mimetype": "text/x-python",
   "name": "python",
   "nbconvert_exporter": "python",
   "pygments_lexer": "ipython3",
   "version": "3.8.10"
  }
 },
 "nbformat": 4,
 "nbformat_minor": 5
}
