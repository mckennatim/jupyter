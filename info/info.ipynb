{
 "cells": [
  {
   "cell_type": "markdown",
   "id": "740f4343-6853-4cf4-9b99-82a272dd66e0",
   "metadata": {},
   "source": [
    "# info on Jupyter Lab\n",
    "https://jupyter.sitebuilt.net/lab/workspaces/auto-f/tree/info/info.ipynb\n",
    "\n",
    "## extensions\n"
   ]
  },
  {
   "cell_type": "code",
   "execution_count": 57,
   "id": "f4bc6ac2-7a4d-497b-aac8-153715d58526",
   "metadata": {},
   "outputs": [
    {
     "name": "stdout",
     "output_type": "stream",
     "text": [
      "The sql extension is already loaded. To reload it, use:\n",
      "  %reload_ext sql\n"
     ]
    }
   ],
   "source": [
    "load_ext sql"
   ]
  },
  {
   "cell_type": "code",
   "execution_count": 58,
   "id": "f27022c6-53ed-48e3-815e-87fe1088c40a",
   "metadata": {
    "tags": []
   },
   "outputs": [
    {
     "name": "stdout",
     "output_type": "stream",
     "text": [
      " * sqlite://\n",
      "(sqlite3.OperationalError) table EMPLOYEE already exists\n",
      "[SQL: CREATE TABLE EMPLOYEE(firstname varchar(50),lastname varchar(50));]\n",
      "(Background on this error at: https://sqlalche.me/e/20/e3q8)\n"
     ]
    }
   ],
   "source": [
    "%%sql\n",
    "CREATE TABLE EMPLOYEE(firstname varchar(50),lastname varchar(50));\n",
    "INSERT INTO EMPLOYEE VALUES('Tom','Mitchell');\n",
    "INSERT INTO EMPLOYEE VALUES('Jack','Ryan');"
   ]
  },
  {
   "cell_type": "code",
   "execution_count": 59,
   "id": "a084ac8b-d7a6-40d8-bc5e-f729f2e26e01",
   "metadata": {
    "tags": []
   },
   "outputs": [
    {
     "name": "stdout",
     "output_type": "stream",
     "text": [
      "The sql extension is already loaded. To reload it, use:\n",
      "  %reload_ext sql\n"
     ]
    }
   ],
   "source": [
    "load_ext sql"
   ]
  },
  {
   "cell_type": "code",
   "execution_count": 60,
   "id": "f19b90c1-1d45-4334-81ea-69e1659fbf11",
   "metadata": {
    "tags": []
   },
   "outputs": [],
   "source": [
    "sql sqlite://"
   ]
  },
  {
   "cell_type": "code",
   "execution_count": 61,
   "id": "2efd23aa-8252-478e-b0e0-7d772316f117",
   "metadata": {
    "tags": []
   },
   "outputs": [
    {
     "name": "stdout",
     "output_type": "stream",
     "text": [
      " * sqlite://\n",
      "(sqlite3.OperationalError) table EMPLOYEE already exists\n",
      "[SQL: CREATE TABLE EMPLOYEE(firstname varchar(50),lastname varchar(50));]\n",
      "(Background on this error at: https://sqlalche.me/e/20/e3q8)\n"
     ]
    }
   ],
   "source": [
    "%%sql\n",
    "CREATE TABLE EMPLOYEE(firstname varchar(50),lastname varchar(50));\n",
    "INSERT INTO EMPLOYEE VALUES('Tom','Mitchell');\n",
    "INSERT INTO EMPLOYEE VALUES('Jack','Ryan');"
   ]
  },
  {
   "cell_type": "code",
   "execution_count": 62,
   "id": "a39f8312-83ea-4635-baa9-e2a9b3f3d49a",
   "metadata": {
    "tags": []
   },
   "outputs": [
    {
     "name": "stdout",
     "output_type": "stream",
     "text": [
      " * sqlite://\n",
      "Done.\n"
     ]
    },
    {
     "data": {
      "text/html": [
       "<table>\n",
       "    <thead>\n",
       "        <tr>\n",
       "            <th>firstname</th>\n",
       "            <th>lastname</th>\n",
       "        </tr>\n",
       "    </thead>\n",
       "    <tbody>\n",
       "        <tr>\n",
       "            <td>Tom</td>\n",
       "            <td>Mitchell</td>\n",
       "        </tr>\n",
       "        <tr>\n",
       "            <td>Jack</td>\n",
       "            <td>Ryan</td>\n",
       "        </tr>\n",
       "    </tbody>\n",
       "</table>"
      ],
      "text/plain": [
       "[('Tom', 'Mitchell'), ('Jack', 'Ryan')]"
      ]
     },
     "execution_count": 62,
     "metadata": {},
     "output_type": "execute_result"
    }
   ],
   "source": [
    " %sql SELECT * from EMPLOYEE;"
   ]
  },
  {
   "cell_type": "code",
   "execution_count": 63,
   "id": "e047a452-6681-4de3-80a0-54fdb5d49fee",
   "metadata": {},
   "outputs": [
    {
     "data": {
      "text/plain": [
       "'2.0.3'"
      ]
     },
     "execution_count": 63,
     "metadata": {},
     "output_type": "execute_result"
    }
   ],
   "source": [
    "import pandas\n",
    "pandas.__version__"
   ]
  },
  {
   "cell_type": "code",
   "execution_count": 64,
   "id": "3d3d27bc-316d-4762-abb0-509dc417d2d7",
   "metadata": {},
   "outputs": [],
   "source": [
    "import ipywidgets as widgets"
   ]
  },
  {
   "cell_type": "code",
   "execution_count": 65,
   "id": "df36dbf1-fb70-4b47-96fb-eac9b16abda1",
   "metadata": {
    "tags": []
   },
   "outputs": [
    {
     "data": {
      "application/vnd.jupyter.widget-view+json": {
       "model_id": "89633648ff814f9b88b84539061ee598",
       "version_major": 2,
       "version_minor": 0
      },
      "text/plain": [
       "IntSlider(value=3, description='Slider:', max=10)"
      ]
     },
     "execution_count": 65,
     "metadata": {},
     "output_type": "execute_result"
    }
   ],
   "source": [
    "widgets.IntSlider(\n",
    "    min=0,\n",
    "    max=10,\n",
    "    step=1,\n",
    "    description='Slider:',\n",
    "    value=3\n",
    ")"
   ]
  },
  {
   "cell_type": "code",
   "execution_count": 66,
   "id": "ec0a8f08-d017-44fd-918a-0e3ce1d06a10",
   "metadata": {
    "tags": []
   },
   "outputs": [],
   "source": [
    "from IPython.display import display\n"
   ]
  },
  {
   "cell_type": "code",
   "execution_count": 67,
   "id": "1c756a60-0485-4edd-8804-fc9557f8066b",
   "metadata": {
    "tags": []
   },
   "outputs": [
    {
     "data": {
      "application/vnd.jupyter.widget-view+json": {
       "model_id": "2443a97684264c8ba3eb371904730581",
       "version_major": 2,
       "version_minor": 0
      },
      "text/plain": [
       "IntSlider(value=0)"
      ]
     },
     "metadata": {},
     "output_type": "display_data"
    }
   ],
   "source": [
    "slider = widgets.IntSlider()\n",
    "display(slider)"
   ]
  },
  {
   "cell_type": "code",
   "execution_count": 68,
   "id": "91614d2d-4bfb-42fc-afb3-64b77083c95d",
   "metadata": {
    "tags": []
   },
   "outputs": [
    {
     "data": {
      "text/plain": [
       "0"
      ]
     },
     "execution_count": 68,
     "metadata": {},
     "output_type": "execute_result"
    }
   ],
   "source": [
    "slider.value"
   ]
  },
  {
   "cell_type": "code",
   "execution_count": 69,
   "id": "022a9c10-5766-4f4e-83a9-3ef174953097",
   "metadata": {
    "tags": []
   },
   "outputs": [
    {
     "data": {
      "application/vnd.jupyter.widget-view+json": {
       "model_id": "dae69411050848fb9b33f9415286908d",
       "version_major": 2,
       "version_minor": 0
      },
      "text/plain": [
       "IntSlider(value=0)"
      ]
     },
     "metadata": {},
     "output_type": "display_data"
    },
    {
     "data": {
      "application/vnd.jupyter.widget-view+json": {
       "model_id": "1ef18807d9834d858822da345057533e",
       "version_major": 2,
       "version_minor": 0
      },
      "text/plain": [
       "IntText(value=0)"
      ]
     },
     "metadata": {},
     "output_type": "display_data"
    },
    {
     "data": {
      "text/plain": [
       "Link(source=(IntSlider(value=0), 'value'), target=(IntText(value=0), 'value'))"
      ]
     },
     "execution_count": 69,
     "metadata": {},
     "output_type": "execute_result"
    }
   ],
   "source": [
    "slider = widgets.IntSlider()\n",
    "text = widgets.IntText()\n",
    "display(slider, text)\n",
    "widgets.jslink((slider, 'value'), (text, 'value'))"
   ]
  },
  {
   "cell_type": "code",
   "execution_count": 70,
   "id": "70a65f9a-aef5-426e-bd1a-84f0815404ca",
   "metadata": {
    "tags": []
   },
   "outputs": [
    {
     "name": "stdout",
     "output_type": "stream",
     "text": [
      "['Accordion', 'AppLayout', 'Audio', 'BoundedFloatText', 'BoundedIntText', 'Box', 'Button', 'ButtonStyle', 'CallbackDispatcher', 'Checkbox', 'Color', 'ColorPicker', 'ColorsInput', 'Combobox', 'Controller', 'CoreWidget', 'DOMWidget', 'DatePicker', 'Datetime', 'DatetimePicker', 'Dropdown', 'FileUpload', 'FloatLogSlider', 'FloatProgress', 'FloatRangeSlider', 'FloatSlider', 'FloatText', 'FloatsInput', 'GridBox', 'GridspecLayout', 'HBox', 'HTML', 'HTMLMath', 'Image', 'IntProgress', 'IntRangeSlider', 'IntSlider', 'IntText', 'IntsInput', 'Label', 'Layout', 'NaiveDatetimePicker', 'NumberFormat', 'Output', 'Password', 'Play', 'RadioButtons', 'Select', 'SelectMultiple', 'SelectionRangeSlider', 'SelectionSlider', 'SliderStyle', 'Stack', 'Style', 'Tab', 'TagsInput', 'Text', 'Textarea', 'TimePicker', 'ToggleButton', 'ToggleButtons', 'ToggleButtonsStyle', 'TwoByTwoLayout', 'TypedTuple', 'VBox', 'Valid', 'ValueWidget', 'Video', 'Widget', '__builtins__', '__cached__', '__doc__', '__file__', '__jupyter_widgets_base_version__', '__jupyter_widgets_controls_version__', '__loader__', '__name__', '__package__', '__path__', '__protocol_version__', '__spec__', '__version__', '_handle_ipython', '_version', 'comm', 'dlink', 'docutils', 'domwidget', 'fixed', 'get_ipython', 'interact', 'interact_manual', 'interaction', 'interactive', 'interactive_output', 'jsdlink', 'jslink', 'link', 'load_ipython_extension', 'os', 'register', 'register_comm_target', 'sys', 'trait_types', 'utils', 'valuewidget', 'widget', 'widget_bool', 'widget_box', 'widget_button', 'widget_color', 'widget_controller', 'widget_core', 'widget_date', 'widget_datetime', 'widget_description', 'widget_float', 'widget_int', 'widget_layout', 'widget_link', 'widget_media', 'widget_output', 'widget_selection', 'widget_selectioncontainer', 'widget_serialization', 'widget_string', 'widget_style', 'widget_tagsinput', 'widget_templates', 'widget_time', 'widget_upload', 'widgets']\n"
     ]
    }
   ],
   "source": [
    "print(dir(widgets))\n"
   ]
  },
  {
   "cell_type": "code",
   "execution_count": 71,
   "id": "7f62027a-9edf-4749-8cb0-cf8cd483ff1f",
   "metadata": {
    "tags": []
   },
   "outputs": [
    {
     "data": {
      "application/vnd.jupyter.widget-view+json": {
       "model_id": "a7268778b247460785377714f4e9d38f",
       "version_major": 2,
       "version_minor": 0
      },
      "text/plain": [
       "Button(description='Medium', style=ButtonStyle())"
      ]
     },
     "metadata": {},
     "output_type": "display_data"
    }
   ],
   "source": [
    "btn = widgets.Button(description='Medium')\n",
    "display(btn)\n",
    "def btn_eventhandler(obj):\n",
    "    print('Hello from the {} button!'.format(obj.description))\n",
    "btn.on_click(btn_eventhandler)"
   ]
  },
  {
   "cell_type": "code",
   "execution_count": 72,
   "id": "eef3c741-99f9-4279-a289-37939419fa06",
   "metadata": {},
   "outputs": [],
   "source": [
    "import pandas as pd\n",
    "import numpy as np\n",
    "url = \"https://data.london.gov.uk/download/number-international-visitors-london/b1e0f953-4c8a-4b45-95f5-e0d143d5641e/international-visitors-london-raw.csv\"\n",
    "df_london = pd.read_csv(url,encoding='latin1')"
   ]
  },
  {
   "cell_type": "code",
   "execution_count": 73,
   "id": "b08cc06a-994d-4d03-b9f4-f2a4ea499081",
   "metadata": {
    "tags": []
   },
   "outputs": [],
   "source": [
    "import numpy as np"
   ]
  },
  {
   "cell_type": "code",
   "execution_count": 74,
   "id": "2520d778-438f-447d-be68-5cba9e65363c",
   "metadata": {
    "tags": []
   },
   "outputs": [],
   "source": [
    "url = \"https://data.london.gov.uk/download/number-international-visitors-london/b1e0f953-4c8a-4b45-95f5-e0d143d5641e/international-visitors-london-raw.csv\""
   ]
  },
  {
   "cell_type": "code",
   "execution_count": 75,
   "id": "42aae573-ce52-46ce-a932-b782699206d8",
   "metadata": {
    "tags": []
   },
   "outputs": [
    {
     "name": "stdout",
     "output_type": "stream",
     "text": [
      "https://data.london.gov.uk/download/number-international-visitors-london/b1e0f953-4c8a-4b45-95f5-e0d143d5641e/international-visitors-london-raw.csv\n"
     ]
    }
   ],
   "source": [
    "print(url)"
   ]
  },
  {
   "cell_type": "code",
   "execution_count": 76,
   "id": "fc20c864-8c4f-4b64-a48e-a6edf6e6b7b8",
   "metadata": {
    "tags": []
   },
   "outputs": [],
   "source": [
    "df_london = pd.read_csv(url, encoding=\"latin1\")"
   ]
  },
  {
   "cell_type": "code",
   "execution_count": 77,
   "id": "2a4bd888-8aa5-42d3-afbb-62f3adfb12a1",
   "metadata": {
    "tags": []
   },
   "outputs": [
    {
     "name": "stdout",
     "output_type": "stream",
     "text": [
      "        year        quarter        market     dur_stay mode        purpose  \\\n",
      "0       2002  January-March       Belgium  1-3  nights  Air        Holiday   \n",
      "1       2002  January-March       Belgium  1-3  nights  Air       Business   \n",
      "2       2002  January-March       Belgium  1-3  nights  Air            VFR   \n",
      "3       2002  January-March       Belgium  1-3  nights  Air  Miscellaneous   \n",
      "4       2002  January-March       Belgium  1-3  nights  Sea       Business   \n",
      "...      ...            ...           ...          ...  ...            ...   \n",
      "61457  2020P  January-March  Other Africa  4-7  nights  Air  Miscellaneous   \n",
      "61458  2020P  January-March  Other Africa  8-14 nights  Air        Holiday   \n",
      "61459  2020P  January-March  Other Africa  8-14 nights  Air            VFR   \n",
      "61460  2020P  January-March  Other Africa  15+  nights  Air        Holiday   \n",
      "61461  2020P  January-March  Other Africa  15+  nights  Air            VFR   \n",
      "\n",
      "          area  Visits (000s)  Spend (£m)  Nights (000s)  sample  \n",
      "0       LONDON       3.572186    0.969138       6.954456       5  \n",
      "1       LONDON       9.284226    2.399577      12.604959      19  \n",
      "2       LONDON       0.877182    0.089833       2.153128       3  \n",
      "3       LONDON       0.163874    0.010160       0.163874       1  \n",
      "4       LONDON       1.648670    0.016789       1.650300       1  \n",
      "...        ...            ...         ...            ...     ...  \n",
      "61457   LONDON       1.695331    1.103167       8.831038       2  \n",
      "61458   LONDON       1.486972    2.022254       7.836555       1  \n",
      "61459   LONDON       2.416554    1.847152      63.894432       2  \n",
      "61460   LONDON       2.472653    1.006109      35.080377       2  \n",
      "61461   LONDON       4.124325    3.960705     134.909755       4  \n",
      "\n",
      "[61462 rows x 11 columns]\n"
     ]
    }
   ],
   "source": [
    "print(df_london)"
   ]
  },
  {
   "cell_type": "raw",
   "id": "804d1d72-0438-4736-805c-b50311ab0d56",
   "metadata": {
    "tags": []
   },
   "source": [
    "ALL = 'ALL'\n",
    "def unique_sorted_values_plus_ALL(array):\n",
    "    unique = array.unique().tolist()\n",
    "    unique.sort()\n",
    "    unique.insert(0, ALL)\n",
    "    return unique\n",
    "\n",
    "dropdown_year = widgets.Dropdown(options = unique_sorted_values_plus_ALL(df_london.year))\n",
    "\n",
    "print(dropdown_year)\n",
    "\n",
    "def dropdown_year_eventhandler(change):\n",
    "    if (change.new == ALL):\n",
    "        display(df_london)\n",
    "    else:\n",
    "        display(df_london[df_london.year == change.new])\n",
    "        \n",
    "dropdown_year.observe(dropdown_year_eventhandler, names='value')\n",
    "\n",
    "display(dropdown_year)"
   ]
  },
  {
   "cell_type": "code",
   "execution_count": 79,
   "id": "0ba363d6-6dda-42a8-80c5-60c4c05b04c5",
   "metadata": {},
   "outputs": [
    {
     "name": "stdout",
     "output_type": "stream",
     "text": [
      "['ALL', '2002', '2003', '2004', '2005', '2006', '2007', '2008', '2009', '2010', '2011', '2012', '2013', '2014', '2015', '2016', '2017', '2018', '2019', '2020P']\n"
     ]
    }
   ],
   "source": [
    "print(unique_sorted_values_plus_ALL(df_london.year))"
   ]
  },
  {
   "cell_type": "code",
   "execution_count": 80,
   "id": "48a93e0d-1e77-4dbb-af7b-68f1e11dbd5e",
   "metadata": {},
   "outputs": [
    {
     "data": {
      "text/html": [
       "<div>\n",
       "<style scoped>\n",
       "    .dataframe tbody tr th:only-of-type {\n",
       "        vertical-align: middle;\n",
       "    }\n",
       "\n",
       "    .dataframe tbody tr th {\n",
       "        vertical-align: top;\n",
       "    }\n",
       "\n",
       "    .dataframe thead th {\n",
       "        text-align: right;\n",
       "    }\n",
       "</style>\n",
       "<table border=\"1\" class=\"dataframe\">\n",
       "  <thead>\n",
       "    <tr style=\"text-align: right;\">\n",
       "      <th></th>\n",
       "      <th>year</th>\n",
       "      <th>quarter</th>\n",
       "      <th>market</th>\n",
       "      <th>dur_stay</th>\n",
       "      <th>mode</th>\n",
       "      <th>purpose</th>\n",
       "      <th>area</th>\n",
       "      <th>Visits (000s)</th>\n",
       "      <th>Spend (£m)</th>\n",
       "      <th>Nights (000s)</th>\n",
       "      <th>sample</th>\n",
       "    </tr>\n",
       "  </thead>\n",
       "  <tbody>\n",
       "    <tr>\n",
       "      <th>0</th>\n",
       "      <td>2002</td>\n",
       "      <td>January-March</td>\n",
       "      <td>Belgium</td>\n",
       "      <td>1-3  nights</td>\n",
       "      <td>Air</td>\n",
       "      <td>Holiday</td>\n",
       "      <td>LONDON</td>\n",
       "      <td>3.572186</td>\n",
       "      <td>0.969138</td>\n",
       "      <td>6.954456</td>\n",
       "      <td>5</td>\n",
       "    </tr>\n",
       "    <tr>\n",
       "      <th>1</th>\n",
       "      <td>2002</td>\n",
       "      <td>January-March</td>\n",
       "      <td>Belgium</td>\n",
       "      <td>1-3  nights</td>\n",
       "      <td>Air</td>\n",
       "      <td>Business</td>\n",
       "      <td>LONDON</td>\n",
       "      <td>9.284226</td>\n",
       "      <td>2.399577</td>\n",
       "      <td>12.604959</td>\n",
       "      <td>19</td>\n",
       "    </tr>\n",
       "    <tr>\n",
       "      <th>2</th>\n",
       "      <td>2002</td>\n",
       "      <td>January-March</td>\n",
       "      <td>Belgium</td>\n",
       "      <td>1-3  nights</td>\n",
       "      <td>Air</td>\n",
       "      <td>VFR</td>\n",
       "      <td>LONDON</td>\n",
       "      <td>0.877182</td>\n",
       "      <td>0.089833</td>\n",
       "      <td>2.153128</td>\n",
       "      <td>3</td>\n",
       "    </tr>\n",
       "    <tr>\n",
       "      <th>3</th>\n",
       "      <td>2002</td>\n",
       "      <td>January-March</td>\n",
       "      <td>Belgium</td>\n",
       "      <td>1-3  nights</td>\n",
       "      <td>Air</td>\n",
       "      <td>Miscellaneous</td>\n",
       "      <td>LONDON</td>\n",
       "      <td>0.163874</td>\n",
       "      <td>0.010160</td>\n",
       "      <td>0.163874</td>\n",
       "      <td>1</td>\n",
       "    </tr>\n",
       "    <tr>\n",
       "      <th>4</th>\n",
       "      <td>2002</td>\n",
       "      <td>January-March</td>\n",
       "      <td>Belgium</td>\n",
       "      <td>1-3  nights</td>\n",
       "      <td>Sea</td>\n",
       "      <td>Business</td>\n",
       "      <td>LONDON</td>\n",
       "      <td>1.648670</td>\n",
       "      <td>0.016789</td>\n",
       "      <td>1.650300</td>\n",
       "      <td>1</td>\n",
       "    </tr>\n",
       "    <tr>\n",
       "      <th>...</th>\n",
       "      <td>...</td>\n",
       "      <td>...</td>\n",
       "      <td>...</td>\n",
       "      <td>...</td>\n",
       "      <td>...</td>\n",
       "      <td>...</td>\n",
       "      <td>...</td>\n",
       "      <td>...</td>\n",
       "      <td>...</td>\n",
       "      <td>...</td>\n",
       "      <td>...</td>\n",
       "    </tr>\n",
       "    <tr>\n",
       "      <th>61457</th>\n",
       "      <td>2020P</td>\n",
       "      <td>January-March</td>\n",
       "      <td>Other Africa</td>\n",
       "      <td>4-7  nights</td>\n",
       "      <td>Air</td>\n",
       "      <td>Miscellaneous</td>\n",
       "      <td>LONDON</td>\n",
       "      <td>1.695331</td>\n",
       "      <td>1.103167</td>\n",
       "      <td>8.831038</td>\n",
       "      <td>2</td>\n",
       "    </tr>\n",
       "    <tr>\n",
       "      <th>61458</th>\n",
       "      <td>2020P</td>\n",
       "      <td>January-March</td>\n",
       "      <td>Other Africa</td>\n",
       "      <td>8-14 nights</td>\n",
       "      <td>Air</td>\n",
       "      <td>Holiday</td>\n",
       "      <td>LONDON</td>\n",
       "      <td>1.486972</td>\n",
       "      <td>2.022254</td>\n",
       "      <td>7.836555</td>\n",
       "      <td>1</td>\n",
       "    </tr>\n",
       "    <tr>\n",
       "      <th>61459</th>\n",
       "      <td>2020P</td>\n",
       "      <td>January-March</td>\n",
       "      <td>Other Africa</td>\n",
       "      <td>8-14 nights</td>\n",
       "      <td>Air</td>\n",
       "      <td>VFR</td>\n",
       "      <td>LONDON</td>\n",
       "      <td>2.416554</td>\n",
       "      <td>1.847152</td>\n",
       "      <td>63.894432</td>\n",
       "      <td>2</td>\n",
       "    </tr>\n",
       "    <tr>\n",
       "      <th>61460</th>\n",
       "      <td>2020P</td>\n",
       "      <td>January-March</td>\n",
       "      <td>Other Africa</td>\n",
       "      <td>15+  nights</td>\n",
       "      <td>Air</td>\n",
       "      <td>Holiday</td>\n",
       "      <td>LONDON</td>\n",
       "      <td>2.472653</td>\n",
       "      <td>1.006109</td>\n",
       "      <td>35.080377</td>\n",
       "      <td>2</td>\n",
       "    </tr>\n",
       "    <tr>\n",
       "      <th>61461</th>\n",
       "      <td>2020P</td>\n",
       "      <td>January-March</td>\n",
       "      <td>Other Africa</td>\n",
       "      <td>15+  nights</td>\n",
       "      <td>Air</td>\n",
       "      <td>VFR</td>\n",
       "      <td>LONDON</td>\n",
       "      <td>4.124325</td>\n",
       "      <td>3.960705</td>\n",
       "      <td>134.909755</td>\n",
       "      <td>4</td>\n",
       "    </tr>\n",
       "  </tbody>\n",
       "</table>\n",
       "<p>61462 rows × 11 columns</p>\n",
       "</div>"
      ],
      "text/plain": [
       "        year        quarter        market     dur_stay mode        purpose  \\\n",
       "0       2002  January-March       Belgium  1-3  nights  Air        Holiday   \n",
       "1       2002  January-March       Belgium  1-3  nights  Air       Business   \n",
       "2       2002  January-March       Belgium  1-3  nights  Air            VFR   \n",
       "3       2002  January-March       Belgium  1-3  nights  Air  Miscellaneous   \n",
       "4       2002  January-March       Belgium  1-3  nights  Sea       Business   \n",
       "...      ...            ...           ...          ...  ...            ...   \n",
       "61457  2020P  January-March  Other Africa  4-7  nights  Air  Miscellaneous   \n",
       "61458  2020P  January-March  Other Africa  8-14 nights  Air        Holiday   \n",
       "61459  2020P  January-March  Other Africa  8-14 nights  Air            VFR   \n",
       "61460  2020P  January-March  Other Africa  15+  nights  Air        Holiday   \n",
       "61461  2020P  January-March  Other Africa  15+  nights  Air            VFR   \n",
       "\n",
       "          area  Visits (000s)  Spend (£m)  Nights (000s)  sample  \n",
       "0       LONDON       3.572186    0.969138       6.954456       5  \n",
       "1       LONDON       9.284226    2.399577      12.604959      19  \n",
       "2       LONDON       0.877182    0.089833       2.153128       3  \n",
       "3       LONDON       0.163874    0.010160       0.163874       1  \n",
       "4       LONDON       1.648670    0.016789       1.650300       1  \n",
       "...        ...            ...         ...            ...     ...  \n",
       "61457   LONDON       1.695331    1.103167       8.831038       2  \n",
       "61458   LONDON       1.486972    2.022254       7.836555       1  \n",
       "61459   LONDON       2.416554    1.847152      63.894432       2  \n",
       "61460   LONDON       2.472653    1.006109      35.080377       2  \n",
       "61461   LONDON       4.124325    3.960705     134.909755       4  \n",
       "\n",
       "[61462 rows x 11 columns]"
      ]
     },
     "metadata": {},
     "output_type": "display_data"
    }
   ],
   "source": [
    "display(df_london)"
   ]
  },
  {
   "cell_type": "code",
   "execution_count": 81,
   "id": "176e283d-2126-43c2-99c4-377647c3edca",
   "metadata": {},
   "outputs": [
    {
     "data": {
      "application/vnd.jupyter.widget-view+json": {
       "model_id": "e7f9bc57332c424d861dc869c3d85ca5",
       "version_major": 2,
       "version_minor": 0
      },
      "text/plain": [
       "Dropdown(index=7, options=('ALL', '2002', '2003', '2004', '2005', '2006', '2007', '2008', '2009', '2010', '201…"
      ]
     },
     "metadata": {},
     "output_type": "display_data"
    }
   ],
   "source": [
    "display(dropdown_year)"
   ]
  },
  {
   "cell_type": "code",
   "execution_count": 82,
   "id": "0d530f63-b7bb-4d70-8f8e-4357ff0c0924",
   "metadata": {},
   "outputs": [
    {
     "data": {
      "application/vnd.jupyter.widget-view+json": {
       "model_id": "adcc10aecc994de0a2cf6ea6cf0d0b1e",
       "version_major": 2,
       "version_minor": 0
      },
      "text/plain": [
       "Output(layout=Layout(border_bottom='1px solid black', border_left='1px solid black', border_right='1px solid b…"
      ]
     },
     "execution_count": 82,
     "metadata": {},
     "output_type": "execute_result"
    }
   ],
   "source": [
    "out = widgets.Output(layout={'border': '1px solid black'})\n",
    "out"
   ]
  },
  {
   "cell_type": "code",
   "execution_count": 88,
   "id": "a9b0c466-0398-40ce-b2f4-4459498d8091",
   "metadata": {},
   "outputs": [],
   "source": [
    "from IPython.display import YouTubeVideo\n",
    "out.clear_output()\n",
    "with out:\n",
    "    display(YouTubeVideo('eWzY2nGfkXk'))"
   ]
  },
  {
   "cell_type": "code",
   "execution_count": 89,
   "id": "d996f9d2-a6da-4f0b-a5df-178039074e03",
   "metadata": {},
   "outputs": [],
   "source": [
    "def dropdown_year_eventhandler(change):\n",
    "    out.clear_output()\n",
    "    with out:\n",
    "        if (change.new == ALL):\n",
    "            display(df_london)\n",
    "        else:\n",
    "            display(df_london[df_london.year == change.new])"
   ]
  },
  {
   "cell_type": "code",
   "execution_count": 90,
   "id": "605d0e86-ec92-48b6-9e19-43fa65856d34",
   "metadata": {},
   "outputs": [],
   "source": [
    "dropdown_year.observe(dropdown_year_eventhandler, names='value')\n"
   ]
  },
  {
   "cell_type": "code",
   "execution_count": 91,
   "id": "4c26f90d-b512-42ea-a279-87e28abed2ba",
   "metadata": {},
   "outputs": [
    {
     "data": {
      "application/vnd.jupyter.widget-view+json": {
       "model_id": "e7f9bc57332c424d861dc869c3d85ca5",
       "version_major": 2,
       "version_minor": 0
      },
      "text/plain": [
       "Dropdown(index=15, options=('ALL', '2002', '2003', '2004', '2005', '2006', '2007', '2008', '2009', '2010', '20…"
      ]
     },
     "metadata": {},
     "output_type": "display_data"
    }
   ],
   "source": [
    "display(dropdown_year)"
   ]
  },
  {
   "cell_type": "code",
   "execution_count": null,
   "id": "5757d0c3-7e6e-460e-82bd-0ce0472a4cf9",
   "metadata": {},
   "outputs": [],
   "source": []
  }
 ],
 "metadata": {
  "kernelspec": {
   "display_name": "Python 3 (ipykernel)",
   "language": "python",
   "name": "python3"
  },
  "language_info": {
   "codemirror_mode": {
    "name": "ipython",
    "version": 3
   },
   "file_extension": ".py",
   "mimetype": "text/x-python",
   "name": "python",
   "nbconvert_exporter": "python",
   "pygments_lexer": "ipython3",
   "version": "3.8.10"
  }
 },
 "nbformat": 4,
 "nbformat_minor": 5
}
