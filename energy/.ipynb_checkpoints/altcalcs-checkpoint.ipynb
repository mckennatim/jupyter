{
 "cells": [
  {
   "cell_type": "markdown",
   "id": "a12af2bf-398f-4f33-9323-ea6e67d06bb7",
   "metadata": {},
   "source": [
    "$$HSPF = \\frac{BTU}{watt-hr} = \\frac{BTU}{(1000*kwh)}$$"
   ]
  },
  {
   "cell_type": "markdown",
   "id": "333b7369-758c-4d16-a52b-18be50a105c8",
   "metadata": {},
   "source": [
    "[<--energy](./energy.ipynb)\n",
    "\n",
    "## alt calcs - annual fuel use, degree days and heating load\n",
    "To check on the heat loss calculations from above, below you will find equivalent calculations in which design load is calculated from \n",
    "from historic averages of gallons of oil burned, degree days for Boston and the BTU' per fuel unit. The calculations below confirm the ones from above.\n",
    "\n",
    "[degree-days Boston](https://massenergymarketers.org/resources/degree-days/boston/)\n",
    "\n",
    "[projecting heating costs from btu/hr and degree days](https://forum.heatinghelp.com/discussion/131998/calculating-heating-costs-math-problem)\n",
    "\n",
    "[calculating home energy tutorial](http://hyperphysics.phy-astr.gsu.edu/hbase/thermo/heatloss.html)\n",
    "\n",
    "$$\\frac{HeatLoss BTU * 24\\frac{hr}{day} * Degree \\frac{day}{yr}}{Design \\Delta T * Efficiency * \\frac{Btu}{unit}}$$"
   ]
  },
  {
   "cell_type": "code",
   "execution_count": null,
   "id": "f1d41943",
   "metadata": {},
   "outputs": [
    {
     "name": "stdout",
     "output_type": "stream",
     "text": [
      "27848566.153846156\n"
     ]
    },
    {
     "data": {
      "text/markdown": [
       "$BtuYr =27848566$ GHz"
      ],
      "text/plain": [
       "<IPython.core.display.Markdown object>"
      ]
     },
     "execution_count": 6,
     "metadata": {},
     "output_type": "execute_result"
    }
   ],
   "source": [
    "from IPython.display import Markdown as md\n",
    "from IPython.display import Math, Latex\n",
    "\n",
    "heatLoss = 13004\n",
    "deltaT = 65\n",
    "degreeDays =5800\n",
    "efficiency = .99\n",
    "BtuYr =heatLoss * 24 / deltaT * efficiency * degreeDays\n",
    "\n",
    "Math(r'F(k) = \\int_{-\\infty}^{\\infty} f(x) e^{2\\pi i k} dx')\n",
    "%%Latex(\\frac{dog}{cat})\n",
    "print(BtuYr)\n",
    "md(\n",
    "  \n",
    "  \"$BtuYr =%i$ GHz\"%(BtuYr)\n",
    ")\n"
   ]
  },
  {
   "cell_type": "markdown",
   "metadata": {},
   "source": [
    "\n",
    "\n",
    "\n",
    "\n",
    "$$\\frac{HeatLoss BTU * 24 hr * Degree \\frac{day}{yr}}{Design Delta T * Efficiency * \\frac{Btu){unit}}$$\n",
    "\n",
    "or $$Heat Loss in BTUH = {Design Delta - T * Efficiency}$$ * \n",
    "where fuel units is gallons of oil =200 with 1gal = 138500 BTUs and 6000 degree days and 60 delta T and 100% efficient\n",
    "\n",
    "$$(65 * .99 * 138500 * 200)/(24*6000) = 11,426 bty/hr$$\n",
    "or using\n",
    "\n",
    "Heat Loss Calculations from A.Bhatia of CEDengineering.com\n",
    "\"From the above data, we can make an educated guess about the annual heat loss. To determine the annual heat loss, \n",
    "divide the energy loss rate by the design temperature difference and then multiply it by 24 hours per day and the number of annual degree days (from the weather files of the location). For example, a house with a design heating load of 30,000 Btu/hr in Pittsburgh (average temperature of 4°F) will use:\n",
    "\n",
    "[30,000 Btu/hr * 24 hr/day / (65 - 4) (°F)] x 6000 DD/yr = 71million Btu/yr\n",
    "The concept of degree days is used primarily to evaluate energy demand for heating and cooling services\"\n",
    "\n",
    "for 600sf chestnut ave apt\n",
    "3412 BTU/h = 1 kW\n",
    "\n",
    "For an 255 chestnut ave apartment that calcs out at needing a system that provides 12000 btu/hr...\n",
    "\n",
    "12000 btu/hr * 24hr/60degree_days_on_coldest_day * 6000 degree_days/yr = 28,800,000 btu/year\n",
    "28,800,000 btu/yr / 138500 btu/gal == 207 gal/yr\n",
    "it would require 207 gallons.\n",
    "\n",
    "So if you burn 220 gallons a year then the btu/hr needed for the coldest 60 degree-day day in a 6000 degree day area is...\n",
    "\n",
    "220 gal/yr * 138500 btu/gal = 30,470,000 btu/yr\n",
    "30,470,000 btu/yr / (24hrs/60degree_days_on_coldest_day * 6000 degree_days/yr = 12,695btu/hr \n",
    "on the coldest day that is the amount of btus/hr used for heating.\n",
    "\n",
    "supply house calcs for 550sf == 15,000btu/hr\n",
    "https://www.geogebra.org/calculator/akb2uk7h\n",
    "\n",
    "Desmos.png"
   ]
  },
  {
   "cell_type": "markdown",
   "id": "f69ea2d5",
   "metadata": {},
   "source": [
    "## calculating BYU/yr from heat loss at design temp and DegreeDays\t\t\t\n",
    "\theatLoss/hr@5F\t 13,004 \t\n",
    "\tBtu/yr\t 27,438,065 \t\n",
    "Btu/yr = heatLoss Btu/hr*(24hr/day/deltaT)*Degree days/yr\t\t\t\n",
    "predicting kwh and $ from Btu/yr and HSPF\t\t\t\n",
    "HSPF = BTU/watt-hr = BTU/(1000*kwh)\t\t\t\n",
    "kwh = Btu/yr/(1000*HSPF)\t\t\t\n",
    "\tHSPF calcs\tkwh/yr\t 2,638 \n",
    "\t\telec $/yr\t $712.33 \n",
    "\t\t\t 19.15 \n",
    "Btu/yr= kwh*(1000*HSPF)\t\t\t\n",
    "\t Btu/yr \t 14,903,200 \t\n",
    "predicting heatLoss from Btu/yr and degreeDays\t\t\t\n",
    "heatLoss Btu/hr = Btu/yr /((24hr/day/deltaT)*Degree days/yr)\t\t\t\n",
    "\theatLoss/hr@5F\t 7,063.27 \t\n"
   ]
  },
  {
   "cell_type": "markdown",
   "id": "9a9bafcc",
   "metadata": {},
   "source": [
    "$$\\frac{Btu}{yr} = heatLoss Btu * 24 hr / \\Delta T * degree \\frac{day}{yr}$$"
   ]
  },
  {
   "cell_type": "markdown",
   "id": "23e118e9",
   "metadata": {},
   "source": [
    "##### predicting kwh and $ from Btu/yr and HSPF\t\t\t\n",
    "\n",
    "$$HSPF = \\frac{\\frac{BTU}{yr}}{watthr} = \\frac{\\frac{BTU}{yr}}{(1000*kwh)}$$\t\n",
    "$$kwh = \\frac{\\frac{Btu}{yr}}{(1000*HSPF)}$$\t\t\n",
    "\n",
    "$$COP = \\frac{Btu}{kw*3412\\frac{Btu}{kw}}$$ \n",
    "\n",
    "$$ \\frac{Btu}{yr} = heatLoss \\frac{Btu}{hr} *24 hr /\\Delta T *  degreeDay\\frac{T}{yr} $$\n",
    "\n",
    "$$ heatLoss \\frac{Btu}{hr} = \\frac{\\frac{Btu}{yr}}{24hr / \\Delta T * degreeDays \\frac{T}{yr}}$$\n"
   ]
  },
  {
   "cell_type": "code",
   "execution_count": 16,
   "id": "44e456a7",
   "metadata": {},
   "outputs": [
    {
     "data": {
      "text/markdown": [
       "$BtuYr =27848566_GHz$ GHz"
      ],
      "text/plain": [
       "<IPython.core.display.Markdown object>"
      ]
     },
     "execution_count": 16,
     "metadata": {},
     "output_type": "execute_result"
    }
   ],
   "source": [
    "md(\"$BtuYr =%i_GHz$ GHz\"%(BtuYr))"
   ]
  },
  {
   "cell_type": "code",
   "execution_count": 10,
   "id": "539d2b9a",
   "metadata": {},
   "outputs": [],
   "source": [
    "import numpy as np\n",
    "array = np.arange(4)"
   ]
  },
  {
   "cell_type": "markdown",
   "id": "2c86fc94",
   "metadata": {},
   "source": []
  },
  {
   "cell_type": "markdown",
   "id": "2fb16d29",
   "metadata": {
    "user_expressions": [
     {
      "expression": "array",
      "result": {
       "data": {
        "text/plain": "array([0, 1, 2, 3])"
       },
       "metadata": {},
       "status": "ok"
      }
     },
     {
      "expression": "array.sum()",
      "result": {
       "data": {
        "text/plain": "6"
       },
       "metadata": {},
       "status": "ok"
      }
     },
     {
      "expression": "array.max()",
      "result": {
       "data": {
        "text/plain": "3"
       },
       "metadata": {},
       "status": "ok"
      }
     }
    ]
   },
   "source": [
    "Let's consider the following array: {eval}`array`.\n",
    "\n",
    "We can compute the total: {eval}`array.sum()` and the maximum value is {eval}`array.max()`."
   ]
  },
  {
   "cell_type": "code",
   "execution_count": null,
   "metadata": {},
   "outputs": [],
   "source": []
  },
  {
   "cell_type": "markdown",
   "metadata": {},
   "source": [
    "[freecad](../freecad/freecad.ipynb)"
   ]
  },
  {
   "cell_type": "markdown",
   "id": "4c84c652",
   "metadata": {},
   "source": []
  },
  {
   "cell_type": "code",
   "execution_count": null,
   "metadata": {},
   "outputs": [],
   "source": []
  }
 ],
 "metadata": {
  "kernelspec": {
   "display_name": "Python 3 (ipykernel)",
   "language": "python",
   "name": "python3"
  },
  "language_info": {
   "codemirror_mode": {
    "name": "ipython",
    "version": 3
   },
   "file_extension": ".py",
   "mimetype": "text/x-python",
   "name": "python",
   "nbconvert_exporter": "python",
   "pygments_lexer": "ipython3",
   "version": "3.8.10"
  }
 },
 "nbformat": 4,
 "nbformat_minor": 5
}
