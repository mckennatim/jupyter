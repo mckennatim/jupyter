{
 "cells": [
  {
   "cell_type": "code",
   "execution_count": 1,
   "id": "5bcd7376",
   "metadata": {},
   "outputs": [],
   "source": [
    "def conv_c2f(c):\n",
    "    f = (c*9/5)+32\n",
    "    print(\"%3.1f celsius = %3.1f farenheit\" % (c,f))\n",
    "\n",
    "def conv_f2c(f):    \n",
    "    c = (f-32)*5/9\n",
    "    print(\"%3.1f farenheit = %3.1f celsius\" % (f,c))"
   ]
  },
  {
   "cell_type": "code",
   "execution_count": 4,
   "id": "d9fafd0d",
   "metadata": {},
   "outputs": [
    {
     "name": "stdout",
     "output_type": "stream",
     "text": [
      "35.0 celsius = 95.0 farenheit\n",
      "45.0 celsius = 113.0 farenheit\n",
      "55.0 celsius = 131.0 farenheit\n",
      "65.0 celsius = 149.0 farenheit\n",
      "80.0 celsius = 176.0 farenheit\n"
     ]
    }
   ],
   "source": [
    "conv_c2f(35)\n",
    "conv_c2f(45)\n",
    "conv_c2f(55)\n",
    "conv_c2f(65)\n",
    "conv_c2f(80)\n",
    "\n"
   ]
  },
  {
   "cell_type": "markdown",
   "id": "a12af2bf-398f-4f33-9323-ea6e67d06bb7",
   "metadata": {},
   "source": [
    "$$HSPF = \\frac{BTU}{watt-hr} = \\frac{BTU}{(1000*kwh)}$$"
   ]
  },
  {
   "cell_type": "markdown",
   "id": "9a9bafcc",
   "metadata": {},
   "source": [
    "$$\\frac{Btu}{yr} = heatLoss Btu * 24 hr / \\Delta T * degree \\frac{day}{yr}$$"
   ]
  },
  {
   "cell_type": "code",
   "execution_count": 1,
   "id": "f1d41943",
   "metadata": {},
   "outputs": [
    {
     "name": "stdout",
     "output_type": "stream",
     "text": [
      "27848566.153846156\n"
     ]
    },
    {
     "data": {
      "text/markdown": [
       "$BtuYr =27848566$ GHz"
      ],
      "text/plain": [
       "<IPython.core.display.Markdown object>"
      ]
     },
     "execution_count": 1,
     "metadata": {},
     "output_type": "execute_result"
    }
   ],
   "source": [
    "from IPython.display import Markdown as md\n",
    "heatLoss = 13004\n",
    "deltaT = 65\n",
    "degreeDays =5800\n",
    "BtuYr =heatLoss * 24 / deltaT * degreeDays\n",
    "print(BtuYr)\n",
    "md(\"$BtuYr =%i$ GHz\"%(BtuYr))"
   ]
  },
  {
   "cell_type": "markdown",
   "id": "23e118e9",
   "metadata": {},
   "source": [
    "##### predicting kwh and $ from Btu/yr and HSPF\t\t\t\n",
    "\n",
    "$$HSPF = \\frac{\\frac{BTU}{yr}}{watthr} = \\frac{\\frac{BTU}{yr}}{(1000*kwh)}$$\t\n",
    "$$kwh = \\frac{\\frac{Btu}{yr}}{(1000*HSPF)}$$\t\t\n",
    "\n",
    "$$COP = \\frac{Btu}{kw*3412\\frac{Btu}{kw}}$$ \n",
    "\n",
    "$$ \\frac{Btu}{yr} = heatLoss \\frac{Btu}{hr} *24 hr /\\Delta T *  degreeDay\\frac{T}{yr} $$\n",
    "\n",
    "$$ heatLoss \\frac{Btu}{hr} = \\frac{\\frac{Btu}{yr}}{24hr / \\Delta T * degreeDays \\frac{T}{yr}}$$\n"
   ]
  },
  {
   "cell_type": "code",
   "execution_count": 16,
   "id": "44e456a7",
   "metadata": {},
   "outputs": [
    {
     "data": {
      "text/markdown": [
       "$BtuYr =27848566_GHz$ GHz"
      ],
      "text/plain": [
       "<IPython.core.display.Markdown object>"
      ]
     },
     "execution_count": 16,
     "metadata": {},
     "output_type": "execute_result"
    }
   ],
   "source": [
    "md(\"$BtuYr =%i_GHz$ GHz\"%(BtuYr))"
   ]
  },
  {
   "cell_type": "code",
   "execution_count": 10,
   "id": "539d2b9a",
   "metadata": {},
   "outputs": [],
   "source": [
    "import numpy as np\n",
    "array = np.arange(4)"
   ]
  },
  {
   "cell_type": "markdown",
   "id": "2c86fc94",
   "metadata": {},
   "source": []
  },
  {
   "cell_type": "markdown",
   "id": "2fb16d29",
   "metadata": {
    "user_expressions": [
     {
      "expression": "array",
      "result": {
       "data": {
        "text/plain": "array([0, 1, 2, 3])"
       },
       "metadata": {},
       "status": "ok"
      }
     },
     {
      "expression": "array.sum()",
      "result": {
       "data": {
        "text/plain": "6"
       },
       "metadata": {},
       "status": "ok"
      }
     },
     {
      "expression": "array.max()",
      "result": {
       "data": {
        "text/plain": "3"
       },
       "metadata": {},
       "status": "ok"
      }
     }
    ]
   },
   "source": [
    "Let's consider the following array: {eval}`array`.\n",
    "\n",
    "We can compute the total: {eval}`array.sum()` and the maximum value is {eval}`array.max()`."
   ]
  },
  {
   "cell_type": "code",
   "execution_count": null,
   "metadata": {},
   "outputs": [],
   "source": []
  },
  {
   "cell_type": "markdown",
   "metadata": {},
   "source": [
    "[freecad](../freecad/freecad.ipynb)"
   ]
  },
  {
   "cell_type": "markdown",
   "id": "4c84c652",
   "metadata": {},
   "source": []
  },
  {
   "cell_type": "code",
   "execution_count": null,
   "metadata": {},
   "outputs": [],
   "source": []
  }
 ],
 "metadata": {
  "kernelspec": {
   "display_name": "Python 3 (ipykernel)",
   "language": "python",
   "name": "python3"
  },
  "language_info": {
   "codemirror_mode": {
    "name": "ipython",
    "version": 3
   },
   "file_extension": ".py",
   "mimetype": "text/x-python",
   "name": "python",
   "nbconvert_exporter": "python",
   "pygments_lexer": "ipython3",
   "version": "3.10.11"
  }
 },
 "nbformat": 4,
 "nbformat_minor": 5
}
