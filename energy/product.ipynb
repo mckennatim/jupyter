{
 "cells": [
  {
   "cell_type": "code",
   "execution_count": 10,
   "metadata": {},
   "outputs": [],
   "source": [
    "BtuPerKw = 3412\n",
    "BtuPerTon =12000\n",
    "GalPerLiter =0.264172\n",
    "LiterPerGal = 3.78541\n",
    "\n",
    "def conv_liter2gal(l):\n",
    "   g= l*GalPerLiter\n",
    "   print(f\"{l:.1f} liters = {g:.2f} gallons\")\n",
    "\n",
    "def kw2btu2ton(k):\n",
    "  btu = k*BtuPerKw\n",
    "  ton = btu/BtuPerTon\n",
    "  print(f\"{k:.0f} kw = {btu:,.0f} Btu = {ton:.1f} ton\" )\n",
    "\n",
    "def conv_c2f(c):\n",
    "    f = (c*9/5)+32\n",
    "    print(\"%3.1f celsius = %3.1f farenheit\" % (c,f))\n",
    "\n",
    "def conv_f2c(f):    \n",
    "    c = (f-32)*5/9\n",
    "    print(\"%3.1f farenheit = %3.1f celsius\" % (f,c))"
   ]
  },
  {
   "cell_type": "code",
   "execution_count": 8,
   "metadata": {},
   "outputs": [
    {
     "name": "stdout",
     "output_type": "stream",
     "text": [
      "35.0 celsius = 95.0 farenheit\n",
      "45.0 celsius = 113.0 farenheit\n",
      "55.0 celsius = 131.0 farenheit\n",
      "65.0 celsius = 149.0 farenheit\n",
      "80.0 celsius = 176.0 farenheit\n"
     ]
    }
   ],
   "source": [
    "conv_c2f(35)\n",
    "conv_c2f(45)\n",
    "conv_c2f(55)\n",
    "conv_c2f(65)\n",
    "conv_c2f(80)\n",
    "\n"
   ]
  },
  {
   "cell_type": "code",
   "execution_count": 12,
   "metadata": {},
   "outputs": [
    {
     "name": "stdout",
     "output_type": "stream",
     "text": [
      "11 kw = 37,532 Btu = 3.1 ton\n",
      "14 kw = 47,768 Btu = 4.0 ton\n",
      "16 kw = 54,592 Btu = 4.5 ton\n",
      "150.0 liters = 39.63 gallons\n",
      "180.0 liters = 47.55 gallons\n",
      "200.0 liters = 52.83 gallons\n",
      "250.0 liters = 66.04 gallons\n",
      "300.0 liters = 79.25 gallons\n"
     ]
    }
   ],
   "source": [
    "kw2btu2ton(11)\n",
    "kw2btu2ton(14)\n",
    "kw2btu2ton(16)\n",
    "conv_liter2gal(150)\n",
    "conv_liter2gal(180)\n",
    "conv_liter2gal(200)\n",
    "conv_liter2gal(250)\n",
    "conv_liter2gal(300)\n",
    "\n"
   ]
  }
 ],
 "metadata": {
  "kernelspec": {
   "display_name": "Python 3",
   "language": "python",
   "name": "python3"
  },
  "language_info": {
   "codemirror_mode": {
    "name": "ipython",
    "version": 3
   },
   "file_extension": ".py",
   "mimetype": "text/x-python",
   "name": "python",
   "nbconvert_exporter": "python",
   "pygments_lexer": "ipython3",
   "version": "3.10.11"
  }
 },
 "nbformat": 4,
 "nbformat_minor": 2
}
