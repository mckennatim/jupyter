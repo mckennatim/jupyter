{
 "cells": [
  {
   "cell_type": "markdown",
   "id": "41570dd8-a52f-4cba-9d0d-131468bf8999",
   "metadata": {},
   "source": [
    "# freecad"
   ]
  },
  {
   "cell_type": "code",
   "execution_count": null,
   "id": "2d7dd55d-cb49-4da4-8837-e7b1043e3b6b",
   "metadata": {},
   "outputs": [],
   "source": []
  }
 ],
 "metadata": {
  "kernelspec": {
   "display_name": "Python 3 (ipykernel)",
   "language": "python",
   "name": "python3"
  },
  "language_info": {
   "codemirror_mode": {
    "name": "ipython",
    "version": 3
   },
   "file_extension": ".py",
   "mimetype": "text/x-python",
   "name": "python",
   "nbconvert_exporter": "python",
   "pygments_lexer": "ipython3",
   "version": "3.8.10"
  }
 },
 "nbformat": 4,
 "nbformat_minor": 5
}
