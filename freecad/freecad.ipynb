{
 "cells": [
  {
   "cell_type": "markdown",
   "id": "41570dd8-a52f-4cba-9d0d-131468bf8999",
   "metadata": {},
   "source": [
    "# freecad"
   ]
  },
  {
   "cell_type": "markdown",
   "id": "b42ec97f",
   "metadata": {},
   "source": [
    "### [help](https://wiki.freecad.org/Help#Chat)\n",
    "[documentation](https://wiki.freecad.org/Main_Page)\n",
    "\n",
    "[forum]()\n",
    "\n",
    "[librecad](https://web.libera.chat/#freecad)\n",
    "\n",
    "[discord](https://discord.com/channels/870877411049357352/965699585056059492)\n",
    "\n",
    "[reddit](https://www.reddit.com/r/FreeCAD/) [flossCAD](https://www.reddit.com/r/flossCAD/)"
   ]
  },
  {
   "cell_type": "code",
   "execution_count": 1,
   "id": "0260968a",
   "metadata": {},
   "outputs": [],
   "source": [
    "from IPython.display import SVG, display"
   ]
  },
  {
   "cell_type": "markdown",
   "id": "dcc22775",
   "metadata": {},
   "source": [
    "## conversions imperial <-> metric "
   ]
  },
  {
   "cell_type": "code",
   "execution_count": 2,
   "id": "86e159f6",
   "metadata": {},
   "outputs": [
    {
     "name": "stdout",
     "output_type": "stream",
     "text": [
      "Geeks :  1, Portal :  5.33\n",
      "Total students : 240, Boys : 120\n",
      "    031\n",
      " 3.561E+02\n"
     ]
    }
   ],
   "source": [
    "\n",
    "# Python program showing how to use string modulo operator(%)\n",
    " \n",
    "print(\"Geeks : %2d, Portal : %5.2f\" % (1, 05.333)) \n",
    " \n",
    "print(\"Total students : %3d, Boys : %2d\" % (240, 120))   # print integer value\n",
    " \n",
    "print(\"%7.3o\" % (25))   # print octal value\n",
    " \n",
    "print(\"%10.3E\" % (356.08977))   # print exponential value"
   ]
  },
  {
   "cell_type": "code",
   "execution_count": 33,
   "id": "9e3b6a53",
   "metadata": {},
   "outputs": [],
   "source": [
    "def conversion_to_metric(weight, height):\n",
    "    \"\"\"Convert values from Imperial to Metric\"\"\"\n",
    "    pound = 0.453592\n",
    "    kg_ans = float(weight * pound)\n",
    "\n",
    "    inch = 2.54\n",
    "    cm_ans = float(inch * height)\n",
    "    print(\"--------------------\")\n",
    "    print(str(weight) + \"lbs. \" + \"= \" + str(kg_ans) + \"kg.\")\n",
    "    print(str(height) + \"in. \" + \"= \" + str(cm_ans) + \"cm.\")\n",
    "\n",
    "\n",
    "def conversion_to_imperial(weight, height):\n",
    "   \"\"\"Convert values from Metric to Imperial\"\"\"\n",
    "   kg = 2.20462\n",
    "   lbs_ans = float(weight * kg)\n",
    "\n",
    "   cm = 0.393701\n",
    "   inch_ans = float(cm * height)\n",
    "   print(\"--------------------\")\n",
    "   print(str(weight) + \"kg. \" + \"= \" + str(lbs_ans) + \"lbs.\")\n",
    "   print(str(height) + \"cm. \" + \"= \" + str(inch_ans) + \"in.\")\n",
    "\n",
    "def getin(x):\n",
    "    print(x)   \n",
    "\n",
    "def parse_ftin2in(str):\n",
    "    # str =input(\"enter ft in\")\n",
    "    feet, inches = str.split(' ') \n",
    "    return int(feet), float(inches)\n",
    "\n",
    "def conv_ftin2in(str):\n",
    "    #str =input(\"enter ft in\")\n",
    "    ftin = parse_ftin2in(str)\n",
    "    inch = (ftin[0]*12 + ftin[1])\n",
    "    print(\"%d'- %3.2f\\\" = %3.2f\\\"\" % (ftin[0], ftin[1], inch ))\n",
    "\n",
    "def conv_ftin2m(str):\n",
    "    #str =input(\"enter ft in\")\n",
    "    ftin = parse_ftin2in(str)\n",
    "    m = (ftin[0]*12 + ftin[1])*.0254\n",
    "    print(\"%d'- %3.2f\\\" = %3.4f meters^2\" % (ftin[0], ftin[1], m ))\n",
    "    # return \"{:.4f}\".format((ftin[0]*12 + ftin[1])*.0254)\n",
    "\n",
    "\n",
    "def conv_sf2sm(sf):\n",
    "    #sf =input(\"enter sf\")\n",
    "    f=0.092903\n",
    "    print(\"{:.4f}\".format(f*float(sf)))\n",
    "\n",
    "def conv_sm2sf(sm):\n",
    "    #sf =input(\"enter sf\")\n",
    "    f=10.7639\n",
    "    print(\"{:.4f}\".format(f*float(sm)))\n",
    "\n",
    "def conv_cuf2cum(cuf):\n",
    "    #sf =input(\"enter sf\")\n",
    "    f=0.0283168\n",
    "    print(\"{:.4f} cu ft\".format(f*float(cf)))\n",
    "\n",
    "def conv_cum2cuf(cum):\n",
    "    #sf =input(\"enter sf\")\n",
    "    f=35.3147\n",
    "    print(\"dosc are:{:.4f}\".format(f*float(cm)))    \n",
    "\n",
    "def conv_c2f(c):\n",
    "    f = (c*9/5)+32\n",
    "    print(\"%3.1f celsius = %3.1f farenheit\" % (c,f))\n",
    "\n",
    "def conv_f2c(f):    \n",
    "    c = (f-32)*5/9\n",
    "    print(\"%3.1f farenheit = %3.1f celsius\" % (f,c))\n",
    "  \n",
    "def conv_ftin2mm(str):\n",
    "    #str =input(\"enter ft in\")\n",
    "    ftin = parse_ftin2in(str)\n",
    "    mm = (ftin[0]*12 + ftin[1])*25.4\n",
    "    print(f\"{ftin[0]:d}' {ftin[1]:.2f}\\\" = {mm:.1f} mm\")\n",
    "    return mm\n",
    "\n",
    "def conv_mm2in(mm):\n",
    "    inch= mm/25.4\n",
    "    print(f\"{mm:.2f} mm = {inch:.2f} in\")\n",
    "    return inch\n"
   ]
  },
  {
   "cell_type": "code",
   "execution_count": 34,
   "id": "2137ea0d",
   "metadata": {},
   "outputs": [
    {
     "name": "stdout",
     "output_type": "stream",
     "text": [
      "6'- 3.75\" = 75.75\"\n",
      "6'- 7.75\" = 2.0256 meters^2\n",
      "21.8879\n",
      "65.0 celsius = 149.0 farenheit\n",
      "21.2 farenheit = -6.0 celsius\n",
      "8' 4.50\" = 2552.7 mm\n",
      "8' 4.50\" = 2552.7 mm\n",
      "0' 6.00\" = 152.4 mm\n",
      "s=307.12\n",
      "307.12 mm = 12.09 in\n"
     ]
    },
    {
     "data": {
      "text/plain": [
       "12.091338582677144"
      ]
     },
     "execution_count": 34,
     "metadata": {},
     "output_type": "execute_result"
    }
   ],
   "source": [
    "conv_ftin2in('6 3.75')\n",
    "conv_ftin2m('6 7.75')\n",
    "#\n",
    "conv_sf2sm(235.6)\n",
    "\n",
    "conv_c2f(65)\n",
    "conv_f2c(21.2)\n",
    "conv_ftin2mm(\"8 4.5\")\n",
    "s = (conv_ftin2mm(\"8 4.5\") - conv_ftin2mm(\"0 6\")+ 1487.37)-3580.55\n",
    "print(f\"{s=:.2f}\")\n",
    "\n",
    "conv_mm2in(s)\n"
   ]
  },
  {
   "cell_type": "code",
   "execution_count": 7,
   "id": "1e16a3b1",
   "metadata": {},
   "outputs": [
    {
     "name": "stdout",
     "output_type": "stream",
     "text": [
      "118.3 farenheit = 47.9 celsius\n"
     ]
    }
   ],
   "source": [
    "conv_f2c(118.3)\n"
   ]
  },
  {
   "cell_type": "code",
   "execution_count": 15,
   "id": "9417defe",
   "metadata": {},
   "outputs": [
    {
     "name": "stdout",
     "output_type": "stream",
     "text": [
      "12'- 4.75\" = 148.75\"\n"
     ]
    }
   ],
   "source": [
    "conv_ftin2in('12 4.75')"
   ]
  },
  {
   "cell_type": "markdown",
   "id": "46476100",
   "metadata": {},
   "source": [
    "## bim\n",
    "### log\n",
    "23-12-15\n",
    "- tried using the project templates to no avail.\n",
    "- created 12pv/12pv0 file that has project, site, buildings and levels. \n",
    " - copied best try file data into 12pv1\n",
    "\n",
    "23-12-14\n",
    "- bim extrude (yellow) is different from regular extrude(blue)\n",
    "23-12-13\n",
    "- if windows/doors aren't difficult then maybe finish floors and walls to get to the gable cuts\n",
    "- to add a window or door, select a face then press ![](https://wiki.freecad.org/images/c/cd/Arch_Window.svg),choose syyle and size and then add\n",
    "\n",
    "23-12-12\n",
    "* Bim viewer is an app on windows10. Can't export to .ifc entire file. Only can export selected objects.\n",
    "* notg (name of the game) is ceate a master sketch. place it below everything. Create sketches linkin to the external geometry ![external geometry](https://wiki.freecad.org/images/b/b2/Sketcher_External.svg) of the master sketch. each building component gets built on its own sketch.\n",
    "* [ifc parsing example](https://www.kaggle.com/code/claytonmiller/ifc-parsing-example)\n"
   ]
  },
  {
   "cell_type": "markdown",
   "id": "f9c1333e-c3dc-423c-9f16-f896561d3243",
   "metadata": {},
   "source": [
    "\n",
    "#### BIM refs\n",
    "#### freecad BIM refs\n",
    "* [ArchBIM](https://wiki.freecad.org/Arch_IFC)\n",
    "* [BIM Workbench](https://wiki.freecad.org/BIM_Workbench)\n",
    "* [BIM ingame tutorial](https://wiki.freecad.org/BIM_ingame_tutorial)\n",
    "* [Freecad IFC Forum ](https://forum.freecad.org/viewforum.php?f=39)\n",
    "#### other Bim refs\n",
    "* [nonsolocad](https://www.youtube.com/@nonsolocad1531/videos) brilliant \n",
    "  * [cutting gable walls](https://www.youtube.com/watch?v=hxRASExu6vg)\n",
    "* [IfcSpaceThermalLoadProperties](https://standards.buildingsmart.org/IFC/RELEASE/IFC2x3/TC1/HTML/ifcsharedbldgserviceelements/lexical/ifcspacethermalloadproperties.htm)\n",
    "* [Pset_SpaceThermalDesign](https://standards.buildingsmart.org/IFC/RELEASE/IFC2x3/TC1/HTML/psd/IfcSharedBldgServiceElements/Pset_SpaceThermalDesign.xml)\n",
    "* [osarch.org](https://wiki.osarch.org/index.php?title=Home_of_OSArch)\n",
    "* https://energy-models.com/training/getting-started-openstudio-0\n",
    "* [equest](https://www.doe2.com/equest/)\n",
    "* [bim tutorials](https://www.youtube.com/results?search_query=building+smart+ifc+tutorial)\n",
    "* [CBIP](https://discovery.ucl.ac.uk/id/eprint/1546334/1/CBIP_revised.pdf)\n",
    "* [IfcSpace](https://wiki.freecad.org/index.php?title=Arch_IFC) [IfcRelSpaceBoundary](https://standards.buildingsmart.org/IFC/DEV/IFC4_2/FINAL/HTML/schema/ifcproductextension/lexical/ifcrelspaceboundary.htm)\n",
    "- [ifc to beps](https://www.researchgate.net/publication/345983333_IFC_to_Building_Energy_Performance_Simulation_A_systematic_review_of_the_main_adopted_tools_and_approaches)\n",
    "- [Technical Report for BIM-BEM\n",
    "Workflows](https://app.box.com/s/1lo25g724749mbqjhgixy2nqdarq33uw)\n",
    "- [Haystack\n",
    "An Open Source initiative to streamline working with IoT Data](https://project-haystack.org)\n",
    "\n",
    "##### freecad \n",
    "- [archIFC](https://wiki.freecad.org/index.php?title=Arch_IFC) \n",
    "- [yorikvanhavre](https://github.com/yorikvanhavre)\n",
    "- [nativeIfc](https://github.com/yorikvanhavre/FreeCAD-NativeIFC/tree/main/doc#introduction)\n",
    "\n",
    "##### blender\n",
    "* [homemaker-addon](https://github.com/brunopostle/homemaker-addon)"
   ]
  },
  {
   "cell_type": "code",
   "execution_count": null,
   "id": "4e98f52d-5a9a-4db9-a11f-9d457d6dae12",
   "metadata": {},
   "outputs": [
    {
     "data": {
      "image/svg+xml": [
       "<svg xmlns:dc=\"http://purl.org/dc/elements/1.1/\" xmlns:cc=\"http://creativecommons.org/ns#\" xmlns:rdf=\"http://www.w3.org/1999/02/22-rdf-syntax-ns#\" xmlns:svg=\"http://www.w3.org/2000/svg\" xmlns=\"http://www.w3.org/2000/svg\" xmlns:xlink=\"http://www.w3.org/1999/xlink\" xmlns:sodipodi=\"http://sodipodi.sourceforge.net/DTD/sodipodi-0.dtd\" xmlns:inkscape=\"http://www.inkscape.org/namespaces/inkscape\" width=\"64\" height=\"64\" id=\"svg3559\" version=\"1.1\" inkscape:version=\"0.91+devel+osxmenu r12922\" sodipodi:docname=\"Part_v08a.svg\" viewBox=\"0 0 64 64\">\n",
       "  <defs id=\"defs3561\">\n",
       "    <linearGradient inkscape:collect=\"always\" id=\"linearGradient4393\">\n",
       "      <stop style=\"stop-color:#204a87;stop-opacity:1\" offset=\"0\" id=\"stop4395\"/>\n",
       "      <stop style=\"stop-color:#3465a4;stop-opacity:1\" offset=\"1\" id=\"stop4397\"/>\n",
       "    </linearGradient>\n",
       "    <linearGradient inkscape:collect=\"always\" id=\"linearGradient4383\">\n",
       "      <stop style=\"stop-color:#3465a4;stop-opacity:1\" offset=\"0\" id=\"stop4385\"/>\n",
       "      <stop style=\"stop-color:#729fcf;stop-opacity:1\" offset=\"1\" id=\"stop4387\"/>\n",
       "    </linearGradient>\n",
       "    <linearGradient inkscape:collect=\"always\" xlink:href=\"#linearGradient4383\" id=\"linearGradient4389\" x1=\"20.243532\" y1=\"37.588112\" x2=\"17.243532\" y2=\"27.588112\" gradientUnits=\"userSpaceOnUse\" gradientTransform=\"translate(-1.243533,-2.588112)\"/>\n",
       "    <linearGradient inkscape:collect=\"always\" xlink:href=\"#linearGradient4393\" id=\"linearGradient4399\" x1=\"48.714352\" y1=\"45.585785\" x2=\"44.714352\" y2=\"34.585785\" gradientUnits=\"userSpaceOnUse\" gradientTransform=\"translate(1.2856487,1.4142136)\"/>\n",
       "    <linearGradient inkscape:collect=\"always\" xlink:href=\"#linearGradient4383-3\" id=\"linearGradient4389-0\" x1=\"27.243532\" y1=\"54.588112\" x2=\"21.243532\" y2=\"30.588112\" gradientUnits=\"userSpaceOnUse\" gradientTransform=\"translate(-1.243533,-2.588112)\"/>\n",
       "    <linearGradient inkscape:collect=\"always\" id=\"linearGradient4383-3\">\n",
       "      <stop style=\"stop-color:#3465a4;stop-opacity:1\" offset=\"0\" id=\"stop4385-1\"/>\n",
       "      <stop style=\"stop-color:#729fcf;stop-opacity:1\" offset=\"1\" id=\"stop4387-2\"/>\n",
       "    </linearGradient>\n",
       "    <linearGradient inkscape:collect=\"always\" xlink:href=\"#linearGradient4393-9\" id=\"linearGradient4399-7\" x1=\"48.714352\" y1=\"45.585785\" x2=\"40.714352\" y2=\"24.585787\" gradientUnits=\"userSpaceOnUse\" gradientTransform=\"translate(1.2856487,1.4142136)\"/>\n",
       "    <linearGradient inkscape:collect=\"always\" id=\"linearGradient4393-9\">\n",
       "      <stop style=\"stop-color:#204a87;stop-opacity:1\" offset=\"0\" id=\"stop4395-8\"/>\n",
       "      <stop style=\"stop-color:#3465a4;stop-opacity:1\" offset=\"1\" id=\"stop4397-1\"/>\n",
       "    </linearGradient>\n",
       "    <linearGradient inkscape:collect=\"always\" xlink:href=\"#linearGradient4393\" id=\"linearGradient69042\" gradientUnits=\"userSpaceOnUse\" gradientTransform=\"translate(-12.714351,-17.585786)\" x1=\"48.714352\" y1=\"45.585785\" x2=\"44.714352\" y2=\"34.585785\"/>\n",
       "    <linearGradient inkscape:collect=\"always\" xlink:href=\"#linearGradient4383\" id=\"linearGradient69056\" gradientUnits=\"userSpaceOnUse\" gradientTransform=\"translate(-1.243533,-2.588112)\" x1=\"27.243532\" y1=\"54.588112\" x2=\"17.243532\" y2=\"27.588112\"/>\n",
       "  </defs>\n",
       "  <sodipodi:namedview id=\"base\" pagecolor=\"#ffffff\" bordercolor=\"#666666\" borderopacity=\"1.0\" inkscape:pageopacity=\"0.0\" inkscape:pageshadow=\"2\" inkscape:zoom=\"10.941048\" inkscape:cx=\"31.005637\" inkscape:cy=\"29.259294\" inkscape:current-layer=\"layer1\" showgrid=\"true\" inkscape:document-units=\"px\" inkscape:grid-bbox=\"true\" inkscape:window-width=\"1680\" inkscape:window-height=\"939\" inkscape:window-x=\"0\" inkscape:window-y=\"23\" inkscape:window-maximized=\"0\" inkscape:snap-global=\"true\">\n",
       "    <inkscape:grid type=\"xygrid\" id=\"grid3007\" empspacing=\"2\" visible=\"true\" enabled=\"true\" snapvisiblegridlinesonly=\"true\"/>\n",
       "  </sodipodi:namedview>\n",
       "  <metadata id=\"metadata3564\">\n",
       "    <rdf:RDF>\n",
       "      <cc:Work rdf:about=\"\">\n",
       "        <dc:format>image/svg+xml</dc:format>\n",
       "        <dc:type rdf:resource=\"http://purl.org/dc/dcmitype/StillImage\"/>\n",
       "        <dc:title/>\n",
       "        <dc:title>Path-Stock</dc:title>\n",
       "        <dc:date>2015-07-04</dc:date>\n",
       "        <dc:relation>http://www.freecadweb.org/wiki/index.php?title=Artwork</dc:relation>\n",
       "        <dc:publisher>\n",
       "          <cc:Agent>\n",
       "            <dc:title>FreeCAD</dc:title>\n",
       "          </cc:Agent>\n",
       "        </dc:publisher>\n",
       "        <dc:identifier>FreeCAD/src/Mod/Path/Gui/Resources/icons/Path-Stock.svg</dc:identifier>\n",
       "        <dc:rights>\n",
       "          <cc:Agent>\n",
       "            <dc:title>FreeCAD LGPL2+</dc:title>\n",
       "          </cc:Agent>\n",
       "        </dc:rights>\n",
       "        <cc:license>https://www.gnu.org/copyleft/lesser.html</cc:license>\n",
       "        <dc:contributor>\n",
       "          <cc:Agent>\n",
       "            <dc:title>[agryson] Alexander Gryson</dc:title>\n",
       "          </cc:Agent>\n",
       "        </dc:contributor>\n",
       "      </cc:Work>\n",
       "    </rdf:RDF>\n",
       "  </metadata>\n",
       "  <g id=\"layer1\" inkscape:label=\"Layer 1\" inkscape:groupmode=\"layer\">\n",
       "    <path style=\"fill:url(#linearGradient69056);fill-opacity:1;fill-rule:nonzero;stroke:#0b1521;stroke-width:2;stroke-linejoin:round;stroke-miterlimit:4;stroke-dasharray:none\" d=\"m 9,49 0,-28 14,5 0,14 14,5 0,14 z\" id=\"path4381\" inkscape:connector-curvature=\"0\" sodipodi:nodetypes=\"ccccccc\"/>\n",
       "    <path style=\"fill:url(#linearGradient4399);fill-opacity:1;fill-rule:nonzero;stroke:#0b1521;stroke-width:2;stroke-linejoin:round;stroke-miterlimit:4;stroke-dasharray:none\" d=\"M 37,59 37,45 55,28 55,41 Z\" id=\"path4391\" inkscape:connector-curvature=\"0\" sodipodi:nodetypes=\"ccccc\"/>\n",
       "    <path style=\"fill:#729fcf;fill-opacity:1;fill-rule:nonzero;stroke:#0b1521;stroke-width:2;stroke-linejoin:round;stroke-miterlimit:4;stroke-dasharray:none\" d=\"M 9,21 29,5 42,10 23,26 Z\" id=\"path4403\" inkscape:connector-curvature=\"0\" sodipodi:nodetypes=\"ccccc\"/>\n",
       "    <path style=\"fill:none;stroke:#729fcf;stroke-width:2;stroke-linejoin:miter;stroke-miterlimit:4;stroke-dasharray:none\" d=\"M 11.008035,47.60627 11,24 l 10,4 0,13 14,5 0.0081,10.184812 z\" id=\"path4381-7\" inkscape:connector-curvature=\"0\" sodipodi:nodetypes=\"ccccccc\"/>\n",
       "    <path style=\"fill:none;stroke:#3465a4;stroke-width:2;stroke-linejoin:miter;stroke-miterlimit:4;stroke-dasharray:none\" d=\"M 39.005041,54.16825 39,46 53,33 l 0.0021,7.176847 z\" id=\"path4391-0\" inkscape:connector-curvature=\"0\" sodipodi:nodetypes=\"ccccc\"/>\n",
       "    <path sodipodi:nodetypes=\"ccccc\" inkscape:connector-curvature=\"0\" id=\"path69038\" d=\"M 23,40 42,23 55,28 37,45 Z\" style=\"fill:#729fcf;fill-opacity:1;fill-rule:nonzero;stroke:#0b1521;stroke-width:2;stroke-linejoin:round;stroke-miterlimit:4;stroke-dasharray:none\"/>\n",
       "    <path sodipodi:nodetypes=\"ccccc\" inkscape:connector-curvature=\"0\" id=\"path69040\" d=\"M 23,40 23,26 42,10 42,23 Z\" style=\"fill:url(#linearGradient69042);fill-opacity:1;fill-rule:nonzero;stroke:#0b1521;stroke-width:2;stroke-linejoin:round;stroke-miterlimit:4;stroke-dasharray:none\"/>\n",
       "    <path sodipodi:nodetypes=\"ccccc\" inkscape:connector-curvature=\"0\" id=\"path69044\" d=\"m 25,36 0,-9 15,-13 0,8 z\" style=\"fill:none;stroke:#3465a4;stroke-width:2;stroke-linejoin:miter;stroke-miterlimit:4;stroke-dasharray:none\"/>\n",
       "  </g>\n",
       "  <g inkscape:groupmode=\"layer\" id=\"layer2\" inkscape:label=\"temporal\" style=\"display:none;opacity:0.58800001\" sodipodi:insensitive=\"true\">\n",
       "    <path inkscape:connector-curvature=\"0\" id=\"path68967\" d=\"M 9,35 9,49\" style=\"fill:#ef2929;fill-rule:evenodd;stroke:#ef2929;stroke-width:1px;stroke-linecap:butt;stroke-linejoin:miter;stroke-opacity:1\" sodipodi:nodetypes=\"cc\"/>\n",
       "    <path inkscape:connector-curvature=\"0\" id=\"path68971\" d=\"M 9,35 37,45\" style=\"fill:#ef2929;fill-rule:evenodd;stroke:#ef2929;stroke-width:1px;stroke-linecap:butt;stroke-linejoin:miter;stroke-opacity:1\"/>\n",
       "    <path sodipodi:nodetypes=\"cc\" style=\"fill:#ef2929;fill-rule:evenodd;stroke:#ef2929;stroke-width:1px;stroke-linecap:butt;stroke-linejoin:miter;stroke-opacity:1\" d=\"m 55,28 0,13\" id=\"path68973\" inkscape:connector-curvature=\"0\"/>\n",
       "    <path style=\"fill:#ef2929;fill-rule:evenodd;stroke:#ef2929;stroke-width:1px;stroke-linecap:butt;stroke-linejoin:miter;stroke-opacity:1\" d=\"M 37,45 55,28\" id=\"path68977\" inkscape:connector-curvature=\"0\" sodipodi:nodetypes=\"cc\"/>\n",
       "    <path sodipodi:nodetypes=\"cc\" inkscape:connector-curvature=\"0\" id=\"path68983\" d=\"M 23,40 23,26\" style=\"fill:#ef2929;fill-rule:evenodd;stroke:#ef2929;stroke-width:1px;stroke-linecap:butt;stroke-linejoin:miter;stroke-opacity:1\"/>\n",
       "    <path sodipodi:nodetypes=\"cc\" inkscape:connector-curvature=\"0\" id=\"path68985\" d=\"m 29,5 13,5\" style=\"fill:#ef2929;fill-rule:evenodd;stroke:#ef2929;stroke-width:1px;stroke-linecap:butt;stroke-linejoin:miter;stroke-opacity:1\"/>\n",
       "    <path style=\"fill:#ef2929;fill-rule:evenodd;stroke:#ef2929;stroke-width:1px;stroke-linecap:butt;stroke-linejoin:miter;stroke-opacity:1\" d=\"M 23,26 42,10\" id=\"path68989\" inkscape:connector-curvature=\"0\" sodipodi:nodetypes=\"cc\"/>\n",
       "    <path style=\"fill:#ef2929;fill-rule:evenodd;stroke:#ef2929;stroke-width:1px;stroke-linecap:butt;stroke-linejoin:miter;stroke-opacity:1\" d=\"M 19,13 29,5\" id=\"path68993\" inkscape:connector-curvature=\"0\" sodipodi:nodetypes=\"cc\"/>\n",
       "    <path style=\"fill:#ef2929;fill-rule:evenodd;stroke:#ef2929;stroke-width:1px;stroke-linecap:butt;stroke-linejoin:miter;stroke-opacity:1\" d=\"m 55,15 -9,8\" id=\"path68997\" inkscape:connector-curvature=\"0\" sodipodi:nodetypes=\"cc\"/>\n",
       "    <path sodipodi:nodetypes=\"cc\" inkscape:connector-curvature=\"0\" id=\"path69030\" d=\"M 42,23 42,10\" style=\"fill:#ef2929;fill-rule:evenodd;stroke:#ef2929;stroke-width:1px;stroke-linecap:butt;stroke-linejoin:miter;stroke-opacity:1\"/>\n",
       "    <path style=\"fill:#ef2929;fill-rule:evenodd;stroke:#ef2929;stroke-width:1px;stroke-linecap:butt;stroke-linejoin:miter;stroke-opacity:1\" d=\"m 42,23 14,5\" id=\"path69034\" inkscape:connector-curvature=\"0\" sodipodi:nodetypes=\"cc\"/>\n",
       "    <path sodipodi:nodetypes=\"cc\" inkscape:connector-curvature=\"0\" id=\"path69036\" d=\"M 23,40 42,23\" style=\"fill:#ef2929;fill-rule:evenodd;stroke:#ef2929;stroke-width:1px;stroke-linecap:butt;stroke-linejoin:miter;stroke-opacity:1\"/>\n",
       "  </g>\n",
       "</svg>"
      ],
      "text/plain": [
       "<IPython.core.display.SVG object>"
      ]
     },
     "metadata": {},
     "output_type": "display_data"
    }
   ],
   "source": [
    "from IPython.display import SVG, display\n",
    "display(SVG(url='https://wiki.freecadweb.org/images/1/10/PartDesign_Body.svg'))"
   ]
  },
  {
   "cell_type": "markdown",
   "id": "40123461-a3e8-4427-95cc-35568ec64e1c",
   "metadata": {},
   "source": []
  },
  {
   "cell_type": "markdown",
   "id": "cafcc18a-b445-4f58-b865-d2c93163bfc9",
   "metadata": {},
   "source": [
    "## tricks and tips ok\n",
    "\n",
    "##### adding icons to this doc\n",
    "You can grab an icon out of anything in the [documentation-users hub](https://wiki.freecad.org/User_hub) and select a wokbench with the icon you want.  rt_click/image/copy_image_address \n"
   ]
  },
  {
   "cell_type": "markdown",
   "id": "307a4ca0",
   "metadata": {},
   "source": []
  },
  {
   "cell_type": "markdown",
   "id": "1aa5f455",
   "metadata": {},
   "source": [
    "#### why models break\n",
    "##### [topological naming problem](https://www.youtube.com/watch?v=LBKgBvgdNOk)"
   ]
  },
  {
   "cell_type": "markdown",
   "id": "12080f2d",
   "metadata": {},
   "source": [
    "#### [bim](https://wiki.freecad.org/BIM_Workbench) & [arch](https://wiki.freecad.org/Arch_Workbench)\n"
   ]
  },
  {
   "cell_type": "markdown",
   "id": "96020c98",
   "metadata": {},
   "source": [
    "\n",
    "\n",
    "##### move the current working plane\n",
    "- select a face\n",
    "- click on ![](https://wiki.freecad.org/images/8/86/Draft_tray_button_plane.png)\n",
    "\n",
    "#### [cutting gable walls 1:10](https://www.youtube.com/watch?v=hxRASExu6vg)\n",
    "\n",
    "##### create an cutting extrusion on a new working plane\n",
    " \n",
    "- select a face and move the current working plane to it\n",
    "- create a sketch of cut line and close sketch\n",
    "- (ctrl) select the (cut) lines from the sketch.\n",
    "- click on the (blue) extrude, not the (yellow)bim_extrude click reverse and change 'along to be a big distance Now you should have cutting planes through the walls you want to cut\n"
   ]
  },
  {
   "cell_type": "markdown",
   "id": "541f30cc",
   "metadata": {},
   "source": [
    "##### cut a  wall with a cutting plane\n",
    "- in the tree view select the wall you want to cut (with the space bar) \n",
    "- hold control and select the cutting plane \n",
    "- click 'cut with plane' ![](https://wiki.freecad.org/images/0/09/Arch_CutPlane.svg) \n"
   ]
  },
  {
   "cell_type": "markdown",
   "id": "79a5420d",
   "metadata": {},
   "source": [
    "#### create face from sketch\n",
    "* make a sketch\n",
    "* switch to part workbench\n",
    "* make face from wires ![](https://wiki.freecad.org/images/a/a7/Part_MakeFace.svg)\n"
   ]
  },
  {
   "cell_type": "markdown",
   "id": "0d503520",
   "metadata": {},
   "source": [
    "##### cutting gable walls with remove component ![](https://wiki.freecad.org/images/b/b9/Arch_Remove.svg)\n",
    "\n",
    "* select roof,   it has to be an original roof, not one that has been cut and changed\n",
    "* ctrl select gable wall\n",
    "* remove component ![](https://wiki.freecad.org/images/b/b9/Arch_Remove.svg)\n",
    "* click on the (top of) wall you want to remove\n",
    "* press delete\n"
   ]
  },
  {
   "cell_type": "markdown",
   "id": "4b754fa5",
   "metadata": {},
   "source": [
    "##### cutting an opening in a wall with extrusion\n",
    "\n",
    "* set up a custom working plane on the face of the wall, and ![](https://wiki.freecad.org/images/8/86/Draft_tray_button_plane.png) \n",
    "* make a sketch of a closed polyline\n",
    "* select the sketch and extrude it 6\" both ways\n",
    "* select the cutter (the extrusion) then ctrl select the cutee (the wall)\n",
    "* remove component ![](https://wiki.freecad.org/images/b/b9/Arch_Remove.svg)"
   ]
  },
  {
   "cell_type": "markdown",
   "id": "b66e47b2",
   "metadata": {},
   "source": [
    "##### cutting wall with roof\n"
   ]
  },
  {
   "cell_type": "markdown",
   "id": "287d678e",
   "metadata": {},
   "source": [
    "#### cutting roof with extrusion\n",
    "\n",
    "##### make the extrusion\n",
    "* select top view (or other)\n",
    "* select oly the sketch whose geometry you will link to\n",
    "* create a new sketch\n",
    "  * select external geometry\n",
    "  * create closed shape\n",
    "* locate the sketch so extrusion will cut the roof object\n",
    "* extrude from the sketch\n",
    "\n",
    "##### cutting roof with extrusion\n",
    "* select the roof\n",
    "* select the extrusion\n",
    "* take the difference and create a cut"
   ]
  },
  {
   "cell_type": "markdown",
   "id": "cf3d23c0",
   "metadata": {},
   "source": [
    "#### using the roof tool\n"
   ]
  },
  {
   "cell_type": "markdown",
   "id": "eaeed886",
   "metadata": {},
   "source": [
    "* set up a custom working plane by selecting a top face, and ![](https://wiki.freecad.org/images/8/86/Draft_tray_button_plane.png) \n",
    "* make a sketch\n",
    "* select the sketch or wire and the roof icon.\n",
    "* if the sketch was a rectangle form top-left to bottom right then the array goes [left, bottom, right, top]\n",
    "* To set heights, change the runs array.\n",
    "* to modify all the attributes, double click of the roof in the tree"
   ]
  },
  {
   "cell_type": "code",
   "execution_count": null,
   "id": "811b6b66",
   "metadata": {},
   "outputs": [],
   "source": [
    "FreeCAD.getDocument('tryGable').getObject('Roof').Runs =[2800.00, 1655.00,0.0, 1655.00, 2800.0, 0.0]"
   ]
  },
  {
   "cell_type": "markdown",
   "id": "14e2c876",
   "metadata": {},
   "source": [
    "##### working with BIM spaces\n",
    "\n",
    "Making a space from the top of a wall\n",
    "- ctrl select the wall tops defining a space\n",
    "- make it the custom plane ![](https://wiki.freecad.org/images/8/86/Draft_tray_button_plane.png)\n",
    "- switch to draft workbench and sketch a wire from wall intersections\n",
    "- switch back to bim, extrude(blue) setting the height\n",
    "- make it solid\n",
    "- change the placement z position of the extrusion\n",
    "- make it a space ![](https://wiki.freecad.org/images/b/b6/Arch_Space.svg)"
   ]
  },
  {
   "cell_type": "markdown",
   "id": "279fdd5a",
   "metadata": {},
   "source": [
    "##### grouping spaces\n",
    "Yuo can control the ifc export from the command line. [As Yorik says](https://forum.freecad.org/viewtopic.php?t=36015)\n",
    "\n",
    "    importIFC.export(filename1,[site, building,storey,object1,object2,...],gather=False)\n",
    "    importIFC.export(filename2,[site, building,storey,space1,space2,...],gather=False)\n",
    "or\n",
    "\n",
    "    importIFC.export(filename1,[site, building,storey,object1,object2,...],onlyVisible=True)\n"
   ]
  },
  {
   "cell_type": "markdown",
   "id": "0f1cf474",
   "metadata": {},
   "source": [
    "##### managing bim properties\n",
    "\n",
    "[BIM ingame tutorial](https://wiki.freecad.org/BIM_ingame_tutorial) has a section on ''managing BIM properties''\n",
    "\n",
    "Each BIM object can also receive additional properties, for example to indicate that a wall is load-bearing or not. IFC allows you to add custom properties to just anything, but most types such as Wall or Beam also have special, predefined sets of properties, usually named `Pset_WallCommon`"
   ]
  },
  {
   "cell_type": "markdown",
   "id": "5416e8a2",
   "metadata": {},
   "source": [
    "##### send obj to python console [ref](https://forum.freecad.org/viewtopic.php?t=74908)\n",
    "\n",
    "Select an object in a drawing the rt_clk send obj to python console\n",
    "\n",
    "    obj.PropertiesList\n",
    "\n",
    "    for prop, value in obj.IfcProperties.items():\n",
    "    print(\"{} --> {}\".format(prop, value))\n",
    "\n",
    "    R_value;;my001 --> IfcThermalResistanceMeasure;;\n",
    "\n",
    "    for prop, value in obj.IfcData.items():\n",
    "    print(\"{} --> {}\".format(prop, value))\n",
    "\n",
    "\n",
    "    \n",
    "\n",
    "    "
   ]
  },
  {
   "cell_type": "markdown",
   "id": "d674a94b",
   "metadata": {},
   "source": [
    "    {'IfcUID': '07Y18DuPP7ducCCujF3mid', 'attributes': '{\n",
    "        \"GlobalId\": {\n",
    "          \"name\": \"GlobalId\",\n",
    "          \"type\": \"IfcGloballyUniqueId\",\n",
    "          \"is_enum\": false,\n",
    "          \"enum_values\": [],\n",
    "          \"value\": \"07Y18DuPP7ducCCujF3mid\"\n",
    "        },\n",
    "        \"Description\": {\n",
    "          \"name\": \"Description\",\n",
    "          \"type\": \"IfcText\",\n",
    "          \"is_enum\": false,\n",
    "          \"enum_values\": []\n",
    "        },\n",
    "        \"ObjectType\": {\n",
    "          \"name\": \"ObjectType\",\n",
    "          \"type\": \"IfcLabel\",\n",
    "          \"is_enum\": false,\n",
    "          \"enum_values\": [],\n",
    "          \"value\": \"frog wood\"\n",
    "        },\n",
    "        \"Tag\": {\n",
    "          \"name\": \"Tag\",\n",
    "          \"type\": \"IfcIdentifier\",\n",
    "          \"is_enum\": false,\n",
    "          \"enum_values\": [],\n",
    "          \"value\": \"r-54\"\n",
    "        },\n",
    "        \"PredefinedType\": {\n",
    "          \"name\": \"PredefinedType\",\n",
    "          \"type\": \"IfcSlabTypeEnum\",\n",
    "          \"is_enum\": true,\n",
    "          \"enum_values\": [\n",
    "            \"FLOOR\",\n",
    "            \"ROOF\",\n",
    "            \"LANDING\",\n",
    "            \"BASESLAB\",\n",
    "            \"USERDEFINED\",\n",
    "            \"NOTDEFINED\"\n",
    "          ],\n",
    "          \"value\": \"FLOOR\"\n",
    "        }\n",
    "      }', 'complex_attributes': '{\n",
    "        \"OwnerHistory\": {},\n",
    "        \"IsNestedBy\": {},\n",
    "        \"IsDecomposedBy\": {},\n",
    "        \"IsDefinedBy\": {},\n",
    "        \"ObjectPlacement\": {},\n",
    "        \"Representation\": {}\n",
    "      }'\n",
    "    }\n",
    "\n",
    "    {'R_value;;my001': 'IfcThermalResistanceMeasure;;'}"
   ]
  },
  {
   "cell_type": "markdown",
   "id": "2f83c375",
   "metadata": {},
   "source": [
    "##### [ifc to json](https://forum.freecad.org/viewtopic.php?t=55819)"
   ]
  },
  {
   "cell_type": "markdown",
   "id": "8f3fffcf",
   "metadata": {},
   "source": [
    "    obj.IfcProperties = {\n",
    "        'FireRating': 'Pset_MyCommon;;IfcLabel;;EI90',\n",
    "        'IsExternal': 'Pset_MyCommon;;IfcBoolean;;False',\n",
    "        'LoadBearing': 'Pset_MyCommon;;IfcBoolean;;True',\n",
    "        'Status': 'Pset_MyCommon;;IfcLabel;;New'\n",
    "    }"
   ]
  },
  {
   "cell_type": "markdown",
   "id": "cbac51ba",
   "metadata": {},
   "source": [
    "##### [How to add IFC properties that get exported?](https://forum.freecad.org/viewtopic.php?t=83890)\n",
    "\n",
    "https://forum.freecad.org/viewtopic.php?t=83890\n",
    "\n",
    "I have used the `IFC property manager` ![](https://wiki.freecad.org/images/e/eb/BIM_IfcProperties.svg) to add Ifc Properties that would then get exported as part of the .ifc file. \n",
    "\n",
    "I can tell something is wrong by the yellow color in the combo_view property/IFC/Ifc_property value. \n",
    "\n",
    "![](./ifc%20prop%20mngr2.png)\n",
    "\n",
    "Perhaps it is because the properties I added don't have values, though I could find no way to add values in the `IFC Property Manager`\n",
    "\n",
    "I'd like to be able to export an .ifc to use for energy modeling. The (test) property I wanted to add to a `Slab` was `R_value`, a `Thermal Resistance Measure`. \n",
    "\n",
    "When I look at the `Ifc Properties` json expression produced by the `IFC property manager` it seems ill-formed. I couldn't guess where to add values.\n",
    "\n",
    "    >>> FreeCAD.getDocument('_2pv3').getObject('Structure').IfcProperties\n",
    "    {'R_value;;my001': 'IfcThermalResistanceMeasure;;'}\n",
    "\n",
    "Is it better to add properties and values from the python console like `Bernd` shows in [this post](https://forum.freecad.org/viewtopic.php?t=46235)?\n",
    "\n",
    "    obj.IfcProperties = {\n",
    "        'FireRating': 'Pset_MyCommon;;IfcLabel;;EI90',\n",
    "        'IsExternal': 'Pset_MyCommon;;IfcBoolean;;False',\n",
    "        'LoadBearing': 'Pset_MyCommon;;IfcBoolean;;True',\n",
    "        'Status': 'Pset_MyCommon;;IfcLabel;;New'\n",
    "    }\n",
    "\n",
    "Or is there a way to do it in the GUI?\n"
   ]
  },
  {
   "cell_type": "markdown",
   "id": "008e5749",
   "metadata": {},
   "source": [
    "###### Roy_043 response, then mine\n",
    "\n",
    "Roy_043 wrote: ↑There has apparently been a change in the data format since Bernd's example. The problem however is the missing value for the property. If you add that it should work.\n",
    "\n",
    "I can add the property value in the python console.\n",
    "\n",
    "\n",
    "    obj.IfcProperties = {'R_value;;my': 'IfcThermalResistanceMeasure;;37,00 '}\n",
    "    #47=IFCPROPERTYSINGLEVALUE('R_value',$,IFCTHERMALRESISTANCEMEASURE(46.),$);\n",
    "\n",
    "Can it be added in the GUI?\n",
    "\n",
    "If you have to add it from the console, can you get it to show up in combo_view?\n",
    "\n",
    "Is there a way to add the value in the IFC Property Manager? I haven't found the click or command to add a value there.\n",
    "\n",
    "Doesn't look like json, where can I find info on the data format?\n",
    "\n",
    "    obj.IfcProperties\n",
    "    {'R_value;;my001': 'IfcThermalResistanceMeasure;;0,00 '}\n",
    "\n"
   ]
  },
  {
   "cell_type": "markdown",
   "id": "1ba0a63b",
   "metadata": {},
   "source": [
    "###### musings disproven, not in post\n",
    "As I guessed, `R_value`, a `Thermal Resistance Measure` didn't show up in the IFC file, though all the prperties and values in combo_view `IFC/Ifc Data` or `Ifc Attributes` did.\n",
    "\n",
    "I also tried `rt_clk/add_property` in the combo view and succeeded only in getting the values in locally; they didn't export.\n",
    "\n",
    "When you look at `Ifc Data` property it is a well formed json expression that includes all the data that shows in `Ifc Attributes`. When I look at the `Ifc Properties` json expression produced by the `IFC property manager` it seems ill-formed. I couldn't guess where to add values.\n",
    "\n",
    "    >>> FreeCAD.getDocument('_2pv3').getObject('Structure').IfcProperties\n",
    "    {'R_value;;my001': 'IfcThermalResistanceMeasure;;'}#\n",
    "\n",
    "What should it look like? How do I add value or get it to show up in the property list?\n",
    "\n",
    "    for prop, value in obj.IfcProperties.items():\n",
    "    print(\"{} --> {}\".format(prop, value))\n",
    "\n",
    "    R_value;;my001 --> IfcThermalResistanceMeasure;;\n",
    "\n",
    "\n",
    "![](./comboview.png)\n",
    "\n",
    "What am I doing incorrectly or missing here?"
   ]
  },
  {
   "cell_type": "markdown",
   "id": "7456badf",
   "metadata": {},
   "source": [
    "##### BIM windows and doors\n",
    "\n",
    "Click on ![](https://wiki.freecad.org/images/c/cd/Arch_Window.svg) and set properties then place on a face."
   ]
  },
  {
   "cell_type": "markdown",
   "id": "b3d4d0a0",
   "metadata": {},
   "source": [
    "#### tripod\n",
    "background: \n",
    "o draft on 2 planes then connect them with a sweep (CADZiS(https://www.youtube.com/watch?v=lfzGEk727eo))]\n",
    " [https://www.youtube.com/watch?v=UBJrOdnS1nw rotating of shapes is tricky] my example in onedrive/cad/trangleConstrained2rotate\n",
    "\n",
    "Update the plant stand tripod project to be parameterized and interchangeble. Plan is to create triangles in 2 planes connected by lines so that when you twist one of the triangles it turns into a tripod. Twitsting 180 degrees should cause the legs to intersect at the center, twitsing less than that should create a spacing between the legs\n",
    "\n",
    "##### tripod-snippets: \n",
    "* [draft on 2 planes then connect them with a sweep (CADZiS)](https://www.youtube.com/watch?v=lfzGEk727eo)\n",
    "* [rotating of shapes is tricky](https://www.youtube.com/watch?v=UBJrOdnS1nw) my example in onedrive/cad/trangleBodyConstrained2rotate, partdesign/body ![](https://wiki.freecadweb.org/images/1/10/PartDesign_Body.svg), then sketch, inserting a polygon triangle , constraining ![coincident](https://wiki.freecadweb.org/images/9/95/Sketcher_ConstrainCoincident.svg) the center to the origin and then (https://wiki.freecadweb.org/images/9/95/Sketcher_ConstrainDistance.svg) the length of one side does it\n",
    "* [adding lines from different planes](https://forum.freecadweb.org/viewtopic.php?style=3&t=53916) aka as creating attachments between [datum planes (CADZis)](https://www.youtube.com/watch?v=8dkF7lBYnWg) ![](https://wiki.freecad.org/images/b/b2/Sketcher_External.svg)\n",
    "* copying triangle sketch to datum planes and twist the triangular prism [ Twisted Vase(Martham Engineering)](https://www.youtube.com/watch?v=8V4zmIoYuOA)\n",
    "  * make a centered tringle sketch, add a datum plane translated up on the z axis (508mm), copy the sketch detaching it from the xy plane in the left panel, select it and drag it into the body. Then select the datum plane and map sketch to face ![](https://wiki.freecadweb.org/images/d/df/Sketcher_MapSketch.svg)\n",
    "* [connecting 2 bodies through subshape binder ![](https://wiki.freecadweb.org/images/d/d2/PartDesign_SubShapeBinder.svg) and datum lines (CADZiS) ](https://www.youtube.com/watch?v=XOkPpmZc7es) \n",
    "* __dynamic data workbench -Mark Ganson Markster__ [youtube](https://www.youtube.com/watch?v=hj9pct633Js) [github](https://github.com/mwganson/DynamicData) [documentation](https://github.com/mwganson/DynamicData/blob/master/README.md)\n",
    "* __Create a part then slice it with a plane.__ from [FreeCAD How To Slice Part With Plane Mufasu CAD](https://www.youtube.com/watch?v=IaGggwQD_Ac) \n",
    "  * body->sketch->pad a hollow square tube. \n",
    "  * in PartWB, create a primitive ![](https://wiki.freecadweb.org/images/4/4d/Part_Primitives.svg) plane, then plane/transform which alow you to position the cutting plane, \n",
    "  * convert body into a solid? by selecting body menu/part/convert to solid , then menu/part/boolean/split/slice_apart \n",
    "  * now you can move the parts apart using transform\n",
    "\n",
    "  in d://freecad/slice_w_plane\n",
    "\n",
    "##### tripod-milestone 1 wireframe\n",
    "\n",
    "Since lofting/sweeping and then twisting did not work...\n",
    "\n",
    "* create a base 200mm triangle, centered on the origin, with one side // to x axis\n",
    "* add a datum plane 300mm above XY\n",
    "* select it and put a sketch on it of another 200mm triangle, centered, rotated ~195degrees to the base triangle\n",
    "\n",
    "methodically, for each leg of the tripod\n",
    "* create a datum plane using 3 points, the top of the leg, the bottom of the leg and the point on the top to the left of the top of the leg. (dont use a line and a point to define the plane)\n",
    "* for those 3 points, bring them into the sketch using  ![](https://wiki.freecadweb.org/images/b/b2/Sketcher_External.svg) on each of those 3 points (not on a line segment)\n",
    "* draw a line near the left point and the top of leg point then carefully select each set of endpoints and create a coincident constraint. Do the same between the top of the leg and the bottom of the leg.\n",
    "* add a midpoint segment - fix a point, pick the endpoints and the new point and symmetry constrain, draw a little line segment, make one end coincident to midpoint, set its length to 10, make it // to the top edge.\n",
    "\n",
    "repeat for the other legs\n",
    "* edit the sketch of the top triangle. Rotate it. It should all hang together and you should be able to move smoothly from a triangular prism to a tripod.\n",
    "\n",
    "create midheight sketch\n",
    "\n",
    "##### tripod-milestone 2\n",
    "\n",
    "Hi @hammax and thanks. I have been studying your drawings. While I eventually got this: [attachment=0]datumTripod.FCStd[/attachment] to work, twisting when I rotate sketch01. It required me to create 4 datum planes and 5 sketches. You, however, seem to be able to draw lines between sketches on different planes without needing all those attachment aids. How do you do it? Why do your hierarchies show a blue cube for lines? How do you create sketches on some angled plane without first placing a datum plane? Do you use the Draft workbench? or is it all done from the Part workbench? Feel free to ignore these annoying questions.\n",
    "\n",
    "Tim McKenna"
   ]
  },
  {
   "cell_type": "markdown",
   "id": "2cbc69b8",
   "metadata": {},
   "source": [
    "#### dydnamic_dataWB\n",
    "\n",
    "* Allows for recompute without having to edit a sketch. rtClk on part or file->DyanmicData/createObject creates a new table. rtClk on part dd->DynamicData/addProperty to add a variable.\n",
    "\n",
    "* Variables so far: ddAngle: 167.8 °, ddBase: 300.0 mm, ddHeight: 600.0 mm, ddLegl: 730.0 mm-> ddHeight + 130mm, ddLegw: 20.0 mm, ddObjw: 28.0 mm->ddLegw + ddThickness * 2, ddThickness: 4.0 mm. Typically you change thicknes or height or something and then look down the tube till the tube is clear of overlap. Sometinmes the array will lose connection; if so, try tweaking angle."
   ]
  },
  {
   "cell_type": "markdown",
   "id": "fdde5d6a",
   "metadata": {},
   "source": [
    "\n",
    "* use partWB/offset2d (not in toolbar) and creat an Offset 2d in the tree\n",
    "* make a compound ![](https://wiki.freecadweb.org/images/0/0f/Part_Compound.svg) of the sketch and the offset2d\n",
    "* got draftWB, select Compound and draft2sket### offset sketch take 2\n",
    "\n",
    "based on [Offset / Outline Geometry and Problems and Fixes Converting to a Sketch -MangoJelly](https://www.youtube.com/watch?v=VRGBU7eQS3Q) as modified by @Markster (no mergsketches use compound instead)\n",
    "\n",
    "with Sketcher and Draft WBs\n",
    "\n",
    "a) making a compound of the original and offset sketch\n",
    "* make a sketch in sketcherch![](https://wiki.freecadweb.org/images/b/b2/Draft_Draft2Sketch.svg) it.\n",
    "\n",
    "b) just turning the offset2d into a sketch and constraining it with links to external geometry\n",
    "* make a sketch in sketcher\n",
    "* use partWB/offset2d (not in toolbar) and create an Offset2d ![](https://wiki.freecadweb.org/images/7/7b/Part_Offset2D.svg) \n",
    "* got draftWB, select offset2d in the tree and draft2sketch![](https://wiki.freecadweb.org/images/b/b2/Draft_Draft2Sketch.svg) it.\n",
    "#### offset rectangle\n",
    "https://www.youtube.com/watch?v=pdm-GUvisJo\n",
    "\n",
    "https://www.glassondesignstudio.com.au/blog/how-model-mortice-and-tenon-joint-using-freecad\n",
    "\n",
    "\n",
    "I was finally able to get an offset rectangle with this sequence:\n",
    "Select rectangle.\n",
    "Click on Offset button on toolbar.\n",
    "Click on Copy button in Offset dialog.\n",
    "Move cursor to inside/outside of rectangle in main window.\n",
    "Enter offset into Distance edit box in Offset dialog.\n",
    "\n",
    "How do I make Draft Offset work? - FreeCAD Forum\n",
    "#### copy sketch\n",
    "https://youtu.be/ek_e-s1mUKo\n",
    "\n",
    "\n"
   ]
  },
  {
   "cell_type": "markdown",
   "id": "2054fd85",
   "metadata": {},
   "source": [
    "##### create Sweep around a path\n",
    "a) create datum plane\n",
    "* select (outer) edge \n",
    "* Normal to edge\n",
    "* select a vertex (where on the edge it will be normal)\n",
    "b) create profile sketch\n",
    "* center a square, //edge, ddLegw, ddThickness\n",
    "* ![](https://wiki.freecadweb.org/images/2/20/PartDesign_AdditivePipe.svg), profile (sketch8), path to sweep along (sketch7), add edge 1,6,4\n"
   ]
  },
  {
   "cell_type": "markdown",
   "id": "79ffd451",
   "metadata": {},
   "source": [
    "##### [join objects](https://www.youtube.com/watch?v=aSpSCzaHfAw)"
   ]
  },
  {
   "cell_type": "markdown",
   "id": "0f9163c7",
   "metadata": {},
   "source": [
    "### jupyter \n",
    "https://wiki.freecadweb.org/IPython_notebook_integration"
   ]
  },
  {
   "cell_type": "markdown",
   "id": "56039f40",
   "metadata": {},
   "source": [
    "### forum posts\n",
    "\n",
    "##### mergesketches offset symmetry bug?\n",
    "I have been working on using offset2d on regular polygons and then turning it into a sketch with both the original polygon and the offset.\n",
    "\n",
    "sketcher/mergSketches seems to fail when you take a regular polygon, part/offset2D it, draft/convert the offset2d into a sketch and then try to sketcher/mergeSketches the original sketch and the offset sketch.\n",
    "\n",
    "What I end up with is a combined sketch with the original sketch correct but the offset sketch flipped 180 degrees.\n",
    "\n",
    "I can get it to work if I break the symmetry constraints on the original sketch (make it an irregular polygon) before I offset it.\n",
    "\n",
    "Is this a bug? Is there a workaround.\n",
    "\n",
    "Unread post by TheMarkster » Tue Feb 08, 2022 10:26 am\n",
    "\n",
    "It works in this case if you make a Part::Compound of the sketch and the offset, then convert the compound into a sketch."
   ]
  },
  {
   "cell_type": "markdown",
   "id": "b5ed3e12-556e-45df-9bd5-ccea86d03cfa",
   "metadata": {},
   "source": [
    "$$P(H)=\\frac{1}{2}$$"
   ]
  },
  {
   "cell_type": "code",
   "execution_count": null,
   "id": "924f6b02-1389-4321-93f8-7a9fa462ac49",
   "metadata": {},
   "outputs": [],
   "source": []
  }
 ],
 "metadata": {
  "kernelspec": {
   "display_name": "Python 3 (ipykernel)",
   "language": "python",
   "name": "python3"
  },
  "language_info": {
   "codemirror_mode": {
    "name": "ipython",
    "version": 3
   },
   "file_extension": ".py",
   "mimetype": "text/x-python",
   "name": "python",
   "nbconvert_exporter": "python",
   "pygments_lexer": "ipython3",
   "version": "3.10.11"
  }
 },
 "nbformat": 4,
 "nbformat_minor": 5
}
